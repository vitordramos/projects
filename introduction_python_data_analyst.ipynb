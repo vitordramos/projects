{
  "cells": [
    {
      "cell_type": "code",
      "execution_count": null,
      "metadata": {
        "id": "-UC88DNjNyA7"
      },
      "outputs": [],
      "source": [
        "import numpy as np\n",
        "import pandas as pd"
      ]
    },
    {
      "cell_type": "code",
      "execution_count": null,
      "metadata": {
        "id": "Pgh5U3RCNyA_"
      },
      "outputs": [],
      "source": [
        "df1 = pd.read_csv(\"earthquakes-dataset.csv\")"
      ]
    },
    {
      "cell_type": "code",
      "execution_count": null,
      "metadata": {
        "id": "cNsnSBsoNyBA",
        "outputId": "28d1d786-edd0-471f-a6c1-5ffc3531d7d9"
      },
      "outputs": [
        {
          "data": {
            "text/html": [
              "<div>\n",
              "<style scoped>\n",
              "    .dataframe tbody tr th:only-of-type {\n",
              "        vertical-align: middle;\n",
              "    }\n",
              "\n",
              "    .dataframe tbody tr th {\n",
              "        vertical-align: top;\n",
              "    }\n",
              "\n",
              "    .dataframe thead th {\n",
              "        text-align: right;\n",
              "    }\n",
              "</style>\n",
              "<table border=\"1\" class=\"dataframe\">\n",
              "  <thead>\n",
              "    <tr style=\"text-align: right;\">\n",
              "      <th></th>\n",
              "      <th>Date</th>\n",
              "      <th>Time</th>\n",
              "      <th>Latitude</th>\n",
              "      <th>Longitude</th>\n",
              "      <th>Type</th>\n",
              "      <th>Depth</th>\n",
              "      <th>Depth Error</th>\n",
              "      <th>Depth Seismic Stations</th>\n",
              "      <th>Magnitude</th>\n",
              "      <th>Magnitude Type</th>\n",
              "      <th>...</th>\n",
              "      <th>Magnitude Seismic Stations</th>\n",
              "      <th>Azimuthal Gap</th>\n",
              "      <th>Horizontal Distance</th>\n",
              "      <th>Horizontal Error</th>\n",
              "      <th>Root Mean Square</th>\n",
              "      <th>ID</th>\n",
              "      <th>Source</th>\n",
              "      <th>Location Source</th>\n",
              "      <th>Magnitude Source</th>\n",
              "      <th>Status</th>\n",
              "    </tr>\n",
              "  </thead>\n",
              "  <tbody>\n",
              "    <tr>\n",
              "      <td>0</td>\n",
              "      <td>01/02/1965</td>\n",
              "      <td>13:44:18</td>\n",
              "      <td>19.246</td>\n",
              "      <td>145.616</td>\n",
              "      <td>Earthquake</td>\n",
              "      <td>131.6</td>\n",
              "      <td>NaN</td>\n",
              "      <td>NaN</td>\n",
              "      <td>6.0</td>\n",
              "      <td>MW</td>\n",
              "      <td>...</td>\n",
              "      <td>NaN</td>\n",
              "      <td>NaN</td>\n",
              "      <td>NaN</td>\n",
              "      <td>NaN</td>\n",
              "      <td>NaN</td>\n",
              "      <td>ISCGEM860706</td>\n",
              "      <td>ISCGEM</td>\n",
              "      <td>ISCGEM</td>\n",
              "      <td>ISCGEM</td>\n",
              "      <td>Automatic</td>\n",
              "    </tr>\n",
              "    <tr>\n",
              "      <td>1</td>\n",
              "      <td>01/04/1965</td>\n",
              "      <td>11:29:49</td>\n",
              "      <td>1.863</td>\n",
              "      <td>127.352</td>\n",
              "      <td>Earthquake</td>\n",
              "      <td>80.0</td>\n",
              "      <td>NaN</td>\n",
              "      <td>NaN</td>\n",
              "      <td>5.8</td>\n",
              "      <td>MW</td>\n",
              "      <td>...</td>\n",
              "      <td>NaN</td>\n",
              "      <td>NaN</td>\n",
              "      <td>NaN</td>\n",
              "      <td>NaN</td>\n",
              "      <td>NaN</td>\n",
              "      <td>ISCGEM860737</td>\n",
              "      <td>ISCGEM</td>\n",
              "      <td>ISCGEM</td>\n",
              "      <td>ISCGEM</td>\n",
              "      <td>Automatic</td>\n",
              "    </tr>\n",
              "    <tr>\n",
              "      <td>2</td>\n",
              "      <td>01/05/1965</td>\n",
              "      <td>18:05:58</td>\n",
              "      <td>-20.579</td>\n",
              "      <td>-173.972</td>\n",
              "      <td>Earthquake</td>\n",
              "      <td>20.0</td>\n",
              "      <td>NaN</td>\n",
              "      <td>NaN</td>\n",
              "      <td>6.2</td>\n",
              "      <td>MW</td>\n",
              "      <td>...</td>\n",
              "      <td>NaN</td>\n",
              "      <td>NaN</td>\n",
              "      <td>NaN</td>\n",
              "      <td>NaN</td>\n",
              "      <td>NaN</td>\n",
              "      <td>ISCGEM860762</td>\n",
              "      <td>ISCGEM</td>\n",
              "      <td>ISCGEM</td>\n",
              "      <td>ISCGEM</td>\n",
              "      <td>Automatic</td>\n",
              "    </tr>\n",
              "    <tr>\n",
              "      <td>3</td>\n",
              "      <td>01/08/1965</td>\n",
              "      <td>18:49:43</td>\n",
              "      <td>-59.076</td>\n",
              "      <td>-23.557</td>\n",
              "      <td>Earthquake</td>\n",
              "      <td>15.0</td>\n",
              "      <td>NaN</td>\n",
              "      <td>NaN</td>\n",
              "      <td>5.8</td>\n",
              "      <td>MW</td>\n",
              "      <td>...</td>\n",
              "      <td>NaN</td>\n",
              "      <td>NaN</td>\n",
              "      <td>NaN</td>\n",
              "      <td>NaN</td>\n",
              "      <td>NaN</td>\n",
              "      <td>ISCGEM860856</td>\n",
              "      <td>ISCGEM</td>\n",
              "      <td>ISCGEM</td>\n",
              "      <td>ISCGEM</td>\n",
              "      <td>Automatic</td>\n",
              "    </tr>\n",
              "    <tr>\n",
              "      <td>4</td>\n",
              "      <td>01/09/1965</td>\n",
              "      <td>13:32:50</td>\n",
              "      <td>11.938</td>\n",
              "      <td>126.427</td>\n",
              "      <td>Earthquake</td>\n",
              "      <td>15.0</td>\n",
              "      <td>NaN</td>\n",
              "      <td>NaN</td>\n",
              "      <td>5.8</td>\n",
              "      <td>MW</td>\n",
              "      <td>...</td>\n",
              "      <td>NaN</td>\n",
              "      <td>NaN</td>\n",
              "      <td>NaN</td>\n",
              "      <td>NaN</td>\n",
              "      <td>NaN</td>\n",
              "      <td>ISCGEM860890</td>\n",
              "      <td>ISCGEM</td>\n",
              "      <td>ISCGEM</td>\n",
              "      <td>ISCGEM</td>\n",
              "      <td>Automatic</td>\n",
              "    </tr>\n",
              "  </tbody>\n",
              "</table>\n",
              "<p>5 rows × 21 columns</p>\n",
              "</div>"
            ],
            "text/plain": [
              "         Date      Time  Latitude  Longitude        Type  Depth  Depth Error  \\\n",
              "0  01/02/1965  13:44:18    19.246    145.616  Earthquake  131.6          NaN   \n",
              "1  01/04/1965  11:29:49     1.863    127.352  Earthquake   80.0          NaN   \n",
              "2  01/05/1965  18:05:58   -20.579   -173.972  Earthquake   20.0          NaN   \n",
              "3  01/08/1965  18:49:43   -59.076    -23.557  Earthquake   15.0          NaN   \n",
              "4  01/09/1965  13:32:50    11.938    126.427  Earthquake   15.0          NaN   \n",
              "\n",
              "   Depth Seismic Stations  Magnitude Magnitude Type  ...  \\\n",
              "0                     NaN        6.0             MW  ...   \n",
              "1                     NaN        5.8             MW  ...   \n",
              "2                     NaN        6.2             MW  ...   \n",
              "3                     NaN        5.8             MW  ...   \n",
              "4                     NaN        5.8             MW  ...   \n",
              "\n",
              "   Magnitude Seismic Stations  Azimuthal Gap  Horizontal Distance  \\\n",
              "0                         NaN            NaN                  NaN   \n",
              "1                         NaN            NaN                  NaN   \n",
              "2                         NaN            NaN                  NaN   \n",
              "3                         NaN            NaN                  NaN   \n",
              "4                         NaN            NaN                  NaN   \n",
              "\n",
              "   Horizontal Error  Root Mean Square            ID  Source Location Source  \\\n",
              "0               NaN               NaN  ISCGEM860706  ISCGEM          ISCGEM   \n",
              "1               NaN               NaN  ISCGEM860737  ISCGEM          ISCGEM   \n",
              "2               NaN               NaN  ISCGEM860762  ISCGEM          ISCGEM   \n",
              "3               NaN               NaN  ISCGEM860856  ISCGEM          ISCGEM   \n",
              "4               NaN               NaN  ISCGEM860890  ISCGEM          ISCGEM   \n",
              "\n",
              "  Magnitude Source     Status  \n",
              "0           ISCGEM  Automatic  \n",
              "1           ISCGEM  Automatic  \n",
              "2           ISCGEM  Automatic  \n",
              "3           ISCGEM  Automatic  \n",
              "4           ISCGEM  Automatic  \n",
              "\n",
              "[5 rows x 21 columns]"
            ]
          },
          "execution_count": 3,
          "metadata": {},
          "output_type": "execute_result"
        }
      ],
      "source": [
        "df1.head()"
      ]
    },
    {
      "cell_type": "code",
      "execution_count": null,
      "metadata": {
        "id": "lMcur37DNyBB"
      },
      "outputs": [],
      "source": [
        "date_demo = \"21st of July 2000\""
      ]
    },
    {
      "cell_type": "code",
      "execution_count": null,
      "metadata": {
        "id": "B4f8PirCNyBC",
        "outputId": "fcd1110e-0a21-4072-e4d3-64d7d8a202f0"
      },
      "outputs": [
        {
          "data": {
            "text/plain": [
              "'21st of July 2000'"
            ]
          },
          "execution_count": 5,
          "metadata": {},
          "output_type": "execute_result"
        }
      ],
      "source": [
        "date_demo"
      ]
    },
    {
      "cell_type": "code",
      "execution_count": null,
      "metadata": {
        "id": "BbZTHd5vNyBC"
      },
      "outputs": [],
      "source": [
        "date_demo_datetime = pd.to_datetime(date_demo)"
      ]
    },
    {
      "cell_type": "code",
      "execution_count": null,
      "metadata": {
        "id": "vyrIxzRgNyBD",
        "outputId": "c70c7be6-9a8a-4412-cc93-06381d559d0f"
      },
      "outputs": [
        {
          "data": {
            "text/plain": [
              "Timestamp('2000-07-21 00:00:00')"
            ]
          },
          "execution_count": 7,
          "metadata": {},
          "output_type": "execute_result"
        }
      ],
      "source": [
        "date_demo_datetime"
      ]
    },
    {
      "cell_type": "code",
      "execution_count": null,
      "metadata": {
        "id": "AbW-aJIxNyBE"
      },
      "outputs": [],
      "source": [
        "df1['Datetime'] = pd.to_datetime(df1['Date'] + ' ' + df1['Time'], errors = 'coerce')"
      ]
    },
    {
      "cell_type": "code",
      "execution_count": null,
      "metadata": {
        "id": "qHg8VYGJNyBF",
        "outputId": "d4f360fd-545b-4d78-c55a-e0966adb6885"
      },
      "outputs": [
        {
          "data": {
            "text/html": [
              "<div>\n",
              "<style scoped>\n",
              "    .dataframe tbody tr th:only-of-type {\n",
              "        vertical-align: middle;\n",
              "    }\n",
              "\n",
              "    .dataframe tbody tr th {\n",
              "        vertical-align: top;\n",
              "    }\n",
              "\n",
              "    .dataframe thead th {\n",
              "        text-align: right;\n",
              "    }\n",
              "</style>\n",
              "<table border=\"1\" class=\"dataframe\">\n",
              "  <thead>\n",
              "    <tr style=\"text-align: right;\">\n",
              "      <th></th>\n",
              "      <th>Date</th>\n",
              "      <th>Time</th>\n",
              "      <th>Latitude</th>\n",
              "      <th>Longitude</th>\n",
              "      <th>Type</th>\n",
              "      <th>Depth</th>\n",
              "      <th>Depth Error</th>\n",
              "      <th>Depth Seismic Stations</th>\n",
              "      <th>Magnitude</th>\n",
              "      <th>Magnitude Type</th>\n",
              "      <th>...</th>\n",
              "      <th>Azimuthal Gap</th>\n",
              "      <th>Horizontal Distance</th>\n",
              "      <th>Horizontal Error</th>\n",
              "      <th>Root Mean Square</th>\n",
              "      <th>ID</th>\n",
              "      <th>Source</th>\n",
              "      <th>Location Source</th>\n",
              "      <th>Magnitude Source</th>\n",
              "      <th>Status</th>\n",
              "      <th>Datetime</th>\n",
              "    </tr>\n",
              "  </thead>\n",
              "  <tbody>\n",
              "    <tr>\n",
              "      <td>0</td>\n",
              "      <td>01/02/1965</td>\n",
              "      <td>13:44:18</td>\n",
              "      <td>19.246</td>\n",
              "      <td>145.616</td>\n",
              "      <td>Earthquake</td>\n",
              "      <td>131.6</td>\n",
              "      <td>NaN</td>\n",
              "      <td>NaN</td>\n",
              "      <td>6.0</td>\n",
              "      <td>MW</td>\n",
              "      <td>...</td>\n",
              "      <td>NaN</td>\n",
              "      <td>NaN</td>\n",
              "      <td>NaN</td>\n",
              "      <td>NaN</td>\n",
              "      <td>ISCGEM860706</td>\n",
              "      <td>ISCGEM</td>\n",
              "      <td>ISCGEM</td>\n",
              "      <td>ISCGEM</td>\n",
              "      <td>Automatic</td>\n",
              "      <td>1965-01-02 13:44:18</td>\n",
              "    </tr>\n",
              "    <tr>\n",
              "      <td>1</td>\n",
              "      <td>01/04/1965</td>\n",
              "      <td>11:29:49</td>\n",
              "      <td>1.863</td>\n",
              "      <td>127.352</td>\n",
              "      <td>Earthquake</td>\n",
              "      <td>80.0</td>\n",
              "      <td>NaN</td>\n",
              "      <td>NaN</td>\n",
              "      <td>5.8</td>\n",
              "      <td>MW</td>\n",
              "      <td>...</td>\n",
              "      <td>NaN</td>\n",
              "      <td>NaN</td>\n",
              "      <td>NaN</td>\n",
              "      <td>NaN</td>\n",
              "      <td>ISCGEM860737</td>\n",
              "      <td>ISCGEM</td>\n",
              "      <td>ISCGEM</td>\n",
              "      <td>ISCGEM</td>\n",
              "      <td>Automatic</td>\n",
              "      <td>1965-01-04 11:29:49</td>\n",
              "    </tr>\n",
              "    <tr>\n",
              "      <td>2</td>\n",
              "      <td>01/05/1965</td>\n",
              "      <td>18:05:58</td>\n",
              "      <td>-20.579</td>\n",
              "      <td>-173.972</td>\n",
              "      <td>Earthquake</td>\n",
              "      <td>20.0</td>\n",
              "      <td>NaN</td>\n",
              "      <td>NaN</td>\n",
              "      <td>6.2</td>\n",
              "      <td>MW</td>\n",
              "      <td>...</td>\n",
              "      <td>NaN</td>\n",
              "      <td>NaN</td>\n",
              "      <td>NaN</td>\n",
              "      <td>NaN</td>\n",
              "      <td>ISCGEM860762</td>\n",
              "      <td>ISCGEM</td>\n",
              "      <td>ISCGEM</td>\n",
              "      <td>ISCGEM</td>\n",
              "      <td>Automatic</td>\n",
              "      <td>1965-01-05 18:05:58</td>\n",
              "    </tr>\n",
              "    <tr>\n",
              "      <td>3</td>\n",
              "      <td>01/08/1965</td>\n",
              "      <td>18:49:43</td>\n",
              "      <td>-59.076</td>\n",
              "      <td>-23.557</td>\n",
              "      <td>Earthquake</td>\n",
              "      <td>15.0</td>\n",
              "      <td>NaN</td>\n",
              "      <td>NaN</td>\n",
              "      <td>5.8</td>\n",
              "      <td>MW</td>\n",
              "      <td>...</td>\n",
              "      <td>NaN</td>\n",
              "      <td>NaN</td>\n",
              "      <td>NaN</td>\n",
              "      <td>NaN</td>\n",
              "      <td>ISCGEM860856</td>\n",
              "      <td>ISCGEM</td>\n",
              "      <td>ISCGEM</td>\n",
              "      <td>ISCGEM</td>\n",
              "      <td>Automatic</td>\n",
              "      <td>1965-01-08 18:49:43</td>\n",
              "    </tr>\n",
              "    <tr>\n",
              "      <td>4</td>\n",
              "      <td>01/09/1965</td>\n",
              "      <td>13:32:50</td>\n",
              "      <td>11.938</td>\n",
              "      <td>126.427</td>\n",
              "      <td>Earthquake</td>\n",
              "      <td>15.0</td>\n",
              "      <td>NaN</td>\n",
              "      <td>NaN</td>\n",
              "      <td>5.8</td>\n",
              "      <td>MW</td>\n",
              "      <td>...</td>\n",
              "      <td>NaN</td>\n",
              "      <td>NaN</td>\n",
              "      <td>NaN</td>\n",
              "      <td>NaN</td>\n",
              "      <td>ISCGEM860890</td>\n",
              "      <td>ISCGEM</td>\n",
              "      <td>ISCGEM</td>\n",
              "      <td>ISCGEM</td>\n",
              "      <td>Automatic</td>\n",
              "      <td>1965-01-09 13:32:50</td>\n",
              "    </tr>\n",
              "  </tbody>\n",
              "</table>\n",
              "<p>5 rows × 22 columns</p>\n",
              "</div>"
            ],
            "text/plain": [
              "         Date      Time  Latitude  Longitude        Type  Depth  Depth Error  \\\n",
              "0  01/02/1965  13:44:18    19.246    145.616  Earthquake  131.6          NaN   \n",
              "1  01/04/1965  11:29:49     1.863    127.352  Earthquake   80.0          NaN   \n",
              "2  01/05/1965  18:05:58   -20.579   -173.972  Earthquake   20.0          NaN   \n",
              "3  01/08/1965  18:49:43   -59.076    -23.557  Earthquake   15.0          NaN   \n",
              "4  01/09/1965  13:32:50    11.938    126.427  Earthquake   15.0          NaN   \n",
              "\n",
              "   Depth Seismic Stations  Magnitude Magnitude Type  ...  Azimuthal Gap  \\\n",
              "0                     NaN        6.0             MW  ...            NaN   \n",
              "1                     NaN        5.8             MW  ...            NaN   \n",
              "2                     NaN        6.2             MW  ...            NaN   \n",
              "3                     NaN        5.8             MW  ...            NaN   \n",
              "4                     NaN        5.8             MW  ...            NaN   \n",
              "\n",
              "   Horizontal Distance  Horizontal Error  Root Mean Square            ID  \\\n",
              "0                  NaN               NaN               NaN  ISCGEM860706   \n",
              "1                  NaN               NaN               NaN  ISCGEM860737   \n",
              "2                  NaN               NaN               NaN  ISCGEM860762   \n",
              "3                  NaN               NaN               NaN  ISCGEM860856   \n",
              "4                  NaN               NaN               NaN  ISCGEM860890   \n",
              "\n",
              "   Source Location Source Magnitude Source     Status            Datetime  \n",
              "0  ISCGEM          ISCGEM           ISCGEM  Automatic 1965-01-02 13:44:18  \n",
              "1  ISCGEM          ISCGEM           ISCGEM  Automatic 1965-01-04 11:29:49  \n",
              "2  ISCGEM          ISCGEM           ISCGEM  Automatic 1965-01-05 18:05:58  \n",
              "3  ISCGEM          ISCGEM           ISCGEM  Automatic 1965-01-08 18:49:43  \n",
              "4  ISCGEM          ISCGEM           ISCGEM  Automatic 1965-01-09 13:32:50  \n",
              "\n",
              "[5 rows x 22 columns]"
            ]
          },
          "execution_count": 9,
          "metadata": {},
          "output_type": "execute_result"
        }
      ],
      "source": [
        "df1.head()"
      ]
    },
    {
      "cell_type": "code",
      "execution_count": null,
      "metadata": {
        "id": "9XWaaNg4NyBJ",
        "outputId": "b600a7ea-bcb7-4bb4-8602-51cc46dc593b"
      },
      "outputs": [
        {
          "data": {
            "text/plain": [
              "Timestamp('1965-01-02 13:44:18')"
            ]
          },
          "execution_count": 10,
          "metadata": {},
          "output_type": "execute_result"
        }
      ],
      "source": [
        "df1['Datetime'][0]"
      ]
    },
    {
      "cell_type": "code",
      "execution_count": null,
      "metadata": {
        "id": "bZLB0Z9GNyBK",
        "outputId": "a346b032-215d-40f7-da43-143fb74efacc"
      },
      "outputs": [
        {
          "data": {
            "text/plain": [
              "'Saturday or Sat and in January'"
            ]
          },
          "execution_count": 11,
          "metadata": {},
          "output_type": "execute_result"
        }
      ],
      "source": [
        "df1['Datetime'][0].strftime('%A or %a and in %B')"
      ]
    },
    {
      "cell_type": "code",
      "execution_count": null,
      "metadata": {
        "id": "Dv2pberzNyBL"
      },
      "outputs": [],
      "source": [
        "df1 = df1.set_index(['Datetime'])"
      ]
    },
    {
      "cell_type": "code",
      "execution_count": null,
      "metadata": {
        "id": "jdY0WU_ONyBL",
        "outputId": "d0c8cb9f-e0a0-45cd-c324-c1f787d29859"
      },
      "outputs": [
        {
          "data": {
            "text/html": [
              "<div>\n",
              "<style scoped>\n",
              "    .dataframe tbody tr th:only-of-type {\n",
              "        vertical-align: middle;\n",
              "    }\n",
              "\n",
              "    .dataframe tbody tr th {\n",
              "        vertical-align: top;\n",
              "    }\n",
              "\n",
              "    .dataframe thead th {\n",
              "        text-align: right;\n",
              "    }\n",
              "</style>\n",
              "<table border=\"1\" class=\"dataframe\">\n",
              "  <thead>\n",
              "    <tr style=\"text-align: right;\">\n",
              "      <th></th>\n",
              "      <th>Date</th>\n",
              "      <th>Time</th>\n",
              "      <th>Latitude</th>\n",
              "      <th>Longitude</th>\n",
              "      <th>Type</th>\n",
              "      <th>Depth</th>\n",
              "      <th>Depth Error</th>\n",
              "      <th>Depth Seismic Stations</th>\n",
              "      <th>Magnitude</th>\n",
              "      <th>Magnitude Type</th>\n",
              "      <th>...</th>\n",
              "      <th>Magnitude Seismic Stations</th>\n",
              "      <th>Azimuthal Gap</th>\n",
              "      <th>Horizontal Distance</th>\n",
              "      <th>Horizontal Error</th>\n",
              "      <th>Root Mean Square</th>\n",
              "      <th>ID</th>\n",
              "      <th>Source</th>\n",
              "      <th>Location Source</th>\n",
              "      <th>Magnitude Source</th>\n",
              "      <th>Status</th>\n",
              "    </tr>\n",
              "    <tr>\n",
              "      <th>Datetime</th>\n",
              "      <th></th>\n",
              "      <th></th>\n",
              "      <th></th>\n",
              "      <th></th>\n",
              "      <th></th>\n",
              "      <th></th>\n",
              "      <th></th>\n",
              "      <th></th>\n",
              "      <th></th>\n",
              "      <th></th>\n",
              "      <th></th>\n",
              "      <th></th>\n",
              "      <th></th>\n",
              "      <th></th>\n",
              "      <th></th>\n",
              "      <th></th>\n",
              "      <th></th>\n",
              "      <th></th>\n",
              "      <th></th>\n",
              "      <th></th>\n",
              "      <th></th>\n",
              "    </tr>\n",
              "  </thead>\n",
              "  <tbody>\n",
              "    <tr>\n",
              "      <td>1965-01-02 13:44:18</td>\n",
              "      <td>01/02/1965</td>\n",
              "      <td>13:44:18</td>\n",
              "      <td>19.246</td>\n",
              "      <td>145.616</td>\n",
              "      <td>Earthquake</td>\n",
              "      <td>131.6</td>\n",
              "      <td>NaN</td>\n",
              "      <td>NaN</td>\n",
              "      <td>6.0</td>\n",
              "      <td>MW</td>\n",
              "      <td>...</td>\n",
              "      <td>NaN</td>\n",
              "      <td>NaN</td>\n",
              "      <td>NaN</td>\n",
              "      <td>NaN</td>\n",
              "      <td>NaN</td>\n",
              "      <td>ISCGEM860706</td>\n",
              "      <td>ISCGEM</td>\n",
              "      <td>ISCGEM</td>\n",
              "      <td>ISCGEM</td>\n",
              "      <td>Automatic</td>\n",
              "    </tr>\n",
              "    <tr>\n",
              "      <td>1965-01-04 11:29:49</td>\n",
              "      <td>01/04/1965</td>\n",
              "      <td>11:29:49</td>\n",
              "      <td>1.863</td>\n",
              "      <td>127.352</td>\n",
              "      <td>Earthquake</td>\n",
              "      <td>80.0</td>\n",
              "      <td>NaN</td>\n",
              "      <td>NaN</td>\n",
              "      <td>5.8</td>\n",
              "      <td>MW</td>\n",
              "      <td>...</td>\n",
              "      <td>NaN</td>\n",
              "      <td>NaN</td>\n",
              "      <td>NaN</td>\n",
              "      <td>NaN</td>\n",
              "      <td>NaN</td>\n",
              "      <td>ISCGEM860737</td>\n",
              "      <td>ISCGEM</td>\n",
              "      <td>ISCGEM</td>\n",
              "      <td>ISCGEM</td>\n",
              "      <td>Automatic</td>\n",
              "    </tr>\n",
              "    <tr>\n",
              "      <td>1965-01-05 18:05:58</td>\n",
              "      <td>01/05/1965</td>\n",
              "      <td>18:05:58</td>\n",
              "      <td>-20.579</td>\n",
              "      <td>-173.972</td>\n",
              "      <td>Earthquake</td>\n",
              "      <td>20.0</td>\n",
              "      <td>NaN</td>\n",
              "      <td>NaN</td>\n",
              "      <td>6.2</td>\n",
              "      <td>MW</td>\n",
              "      <td>...</td>\n",
              "      <td>NaN</td>\n",
              "      <td>NaN</td>\n",
              "      <td>NaN</td>\n",
              "      <td>NaN</td>\n",
              "      <td>NaN</td>\n",
              "      <td>ISCGEM860762</td>\n",
              "      <td>ISCGEM</td>\n",
              "      <td>ISCGEM</td>\n",
              "      <td>ISCGEM</td>\n",
              "      <td>Automatic</td>\n",
              "    </tr>\n",
              "    <tr>\n",
              "      <td>1965-01-08 18:49:43</td>\n",
              "      <td>01/08/1965</td>\n",
              "      <td>18:49:43</td>\n",
              "      <td>-59.076</td>\n",
              "      <td>-23.557</td>\n",
              "      <td>Earthquake</td>\n",
              "      <td>15.0</td>\n",
              "      <td>NaN</td>\n",
              "      <td>NaN</td>\n",
              "      <td>5.8</td>\n",
              "      <td>MW</td>\n",
              "      <td>...</td>\n",
              "      <td>NaN</td>\n",
              "      <td>NaN</td>\n",
              "      <td>NaN</td>\n",
              "      <td>NaN</td>\n",
              "      <td>NaN</td>\n",
              "      <td>ISCGEM860856</td>\n",
              "      <td>ISCGEM</td>\n",
              "      <td>ISCGEM</td>\n",
              "      <td>ISCGEM</td>\n",
              "      <td>Automatic</td>\n",
              "    </tr>\n",
              "    <tr>\n",
              "      <td>1965-01-09 13:32:50</td>\n",
              "      <td>01/09/1965</td>\n",
              "      <td>13:32:50</td>\n",
              "      <td>11.938</td>\n",
              "      <td>126.427</td>\n",
              "      <td>Earthquake</td>\n",
              "      <td>15.0</td>\n",
              "      <td>NaN</td>\n",
              "      <td>NaN</td>\n",
              "      <td>5.8</td>\n",
              "      <td>MW</td>\n",
              "      <td>...</td>\n",
              "      <td>NaN</td>\n",
              "      <td>NaN</td>\n",
              "      <td>NaN</td>\n",
              "      <td>NaN</td>\n",
              "      <td>NaN</td>\n",
              "      <td>ISCGEM860890</td>\n",
              "      <td>ISCGEM</td>\n",
              "      <td>ISCGEM</td>\n",
              "      <td>ISCGEM</td>\n",
              "      <td>Automatic</td>\n",
              "    </tr>\n",
              "  </tbody>\n",
              "</table>\n",
              "<p>5 rows × 21 columns</p>\n",
              "</div>"
            ],
            "text/plain": [
              "                           Date      Time  Latitude  Longitude        Type  \\\n",
              "Datetime                                                                     \n",
              "1965-01-02 13:44:18  01/02/1965  13:44:18    19.246    145.616  Earthquake   \n",
              "1965-01-04 11:29:49  01/04/1965  11:29:49     1.863    127.352  Earthquake   \n",
              "1965-01-05 18:05:58  01/05/1965  18:05:58   -20.579   -173.972  Earthquake   \n",
              "1965-01-08 18:49:43  01/08/1965  18:49:43   -59.076    -23.557  Earthquake   \n",
              "1965-01-09 13:32:50  01/09/1965  13:32:50    11.938    126.427  Earthquake   \n",
              "\n",
              "                     Depth  Depth Error  Depth Seismic Stations  Magnitude  \\\n",
              "Datetime                                                                     \n",
              "1965-01-02 13:44:18  131.6          NaN                     NaN        6.0   \n",
              "1965-01-04 11:29:49   80.0          NaN                     NaN        5.8   \n",
              "1965-01-05 18:05:58   20.0          NaN                     NaN        6.2   \n",
              "1965-01-08 18:49:43   15.0          NaN                     NaN        5.8   \n",
              "1965-01-09 13:32:50   15.0          NaN                     NaN        5.8   \n",
              "\n",
              "                    Magnitude Type  ...  Magnitude Seismic Stations  \\\n",
              "Datetime                            ...                               \n",
              "1965-01-02 13:44:18             MW  ...                         NaN   \n",
              "1965-01-04 11:29:49             MW  ...                         NaN   \n",
              "1965-01-05 18:05:58             MW  ...                         NaN   \n",
              "1965-01-08 18:49:43             MW  ...                         NaN   \n",
              "1965-01-09 13:32:50             MW  ...                         NaN   \n",
              "\n",
              "                     Azimuthal Gap  Horizontal Distance  Horizontal Error  \\\n",
              "Datetime                                                                    \n",
              "1965-01-02 13:44:18            NaN                  NaN               NaN   \n",
              "1965-01-04 11:29:49            NaN                  NaN               NaN   \n",
              "1965-01-05 18:05:58            NaN                  NaN               NaN   \n",
              "1965-01-08 18:49:43            NaN                  NaN               NaN   \n",
              "1965-01-09 13:32:50            NaN                  NaN               NaN   \n",
              "\n",
              "                     Root Mean Square            ID  Source Location Source  \\\n",
              "Datetime                                                                      \n",
              "1965-01-02 13:44:18               NaN  ISCGEM860706  ISCGEM          ISCGEM   \n",
              "1965-01-04 11:29:49               NaN  ISCGEM860737  ISCGEM          ISCGEM   \n",
              "1965-01-05 18:05:58               NaN  ISCGEM860762  ISCGEM          ISCGEM   \n",
              "1965-01-08 18:49:43               NaN  ISCGEM860856  ISCGEM          ISCGEM   \n",
              "1965-01-09 13:32:50               NaN  ISCGEM860890  ISCGEM          ISCGEM   \n",
              "\n",
              "                    Magnitude Source     Status  \n",
              "Datetime                                         \n",
              "1965-01-02 13:44:18           ISCGEM  Automatic  \n",
              "1965-01-04 11:29:49           ISCGEM  Automatic  \n",
              "1965-01-05 18:05:58           ISCGEM  Automatic  \n",
              "1965-01-08 18:49:43           ISCGEM  Automatic  \n",
              "1965-01-09 13:32:50           ISCGEM  Automatic  \n",
              "\n",
              "[5 rows x 21 columns]"
            ]
          },
          "execution_count": 13,
          "metadata": {},
          "output_type": "execute_result"
        }
      ],
      "source": [
        "df1.head()"
      ]
    },
    {
      "cell_type": "code",
      "execution_count": null,
      "metadata": {
        "id": "Re6SlAfoNyBM",
        "outputId": "93cf3f3b-cca4-46e1-d711-fde94dd33b1b"
      },
      "outputs": [
        {
          "data": {
            "text/plain": [
              "Date                           object\n",
              "Time                           object\n",
              "Latitude                      float64\n",
              "Longitude                     float64\n",
              "Type                           object\n",
              "Depth                         float64\n",
              "Depth Error                   float64\n",
              "Depth Seismic Stations        float64\n",
              "Magnitude                     float64\n",
              "Magnitude Type                 object\n",
              "Magnitude Error               float64\n",
              "Magnitude Seismic Stations    float64\n",
              "Azimuthal Gap                 float64\n",
              "Horizontal Distance           float64\n",
              "Horizontal Error              float64\n",
              "Root Mean Square              float64\n",
              "ID                             object\n",
              "Source                         object\n",
              "Location Source                object\n",
              "Magnitude Source               object\n",
              "Status                         object\n",
              "dtype: object"
            ]
          },
          "execution_count": 14,
          "metadata": {},
          "output_type": "execute_result"
        }
      ],
      "source": [
        "df1.dtypes"
      ]
    },
    {
      "cell_type": "code",
      "execution_count": null,
      "metadata": {
        "id": "OmKgXMl7NyBM"
      },
      "outputs": [],
      "source": [
        "df1['Depth'] = df1['Depth'].astype(int)"
      ]
    },
    {
      "cell_type": "code",
      "execution_count": null,
      "metadata": {
        "id": "2fssYT9JNyBM",
        "outputId": "a2863570-4c94-4831-8c7b-a5d8578f7b38"
      },
      "outputs": [
        {
          "data": {
            "text/html": [
              "<div>\n",
              "<style scoped>\n",
              "    .dataframe tbody tr th:only-of-type {\n",
              "        vertical-align: middle;\n",
              "    }\n",
              "\n",
              "    .dataframe tbody tr th {\n",
              "        vertical-align: top;\n",
              "    }\n",
              "\n",
              "    .dataframe thead th {\n",
              "        text-align: right;\n",
              "    }\n",
              "</style>\n",
              "<table border=\"1\" class=\"dataframe\">\n",
              "  <thead>\n",
              "    <tr style=\"text-align: right;\">\n",
              "      <th></th>\n",
              "      <th>Date</th>\n",
              "      <th>Time</th>\n",
              "      <th>Latitude</th>\n",
              "      <th>Longitude</th>\n",
              "      <th>Type</th>\n",
              "      <th>Depth</th>\n",
              "      <th>Depth Error</th>\n",
              "      <th>Depth Seismic Stations</th>\n",
              "      <th>Magnitude</th>\n",
              "      <th>Magnitude Type</th>\n",
              "      <th>...</th>\n",
              "      <th>Magnitude Seismic Stations</th>\n",
              "      <th>Azimuthal Gap</th>\n",
              "      <th>Horizontal Distance</th>\n",
              "      <th>Horizontal Error</th>\n",
              "      <th>Root Mean Square</th>\n",
              "      <th>ID</th>\n",
              "      <th>Source</th>\n",
              "      <th>Location Source</th>\n",
              "      <th>Magnitude Source</th>\n",
              "      <th>Status</th>\n",
              "    </tr>\n",
              "    <tr>\n",
              "      <th>Datetime</th>\n",
              "      <th></th>\n",
              "      <th></th>\n",
              "      <th></th>\n",
              "      <th></th>\n",
              "      <th></th>\n",
              "      <th></th>\n",
              "      <th></th>\n",
              "      <th></th>\n",
              "      <th></th>\n",
              "      <th></th>\n",
              "      <th></th>\n",
              "      <th></th>\n",
              "      <th></th>\n",
              "      <th></th>\n",
              "      <th></th>\n",
              "      <th></th>\n",
              "      <th></th>\n",
              "      <th></th>\n",
              "      <th></th>\n",
              "      <th></th>\n",
              "      <th></th>\n",
              "    </tr>\n",
              "  </thead>\n",
              "  <tbody>\n",
              "    <tr>\n",
              "      <td>1965-01-02 13:44:18</td>\n",
              "      <td>01/02/1965</td>\n",
              "      <td>13:44:18</td>\n",
              "      <td>19.246</td>\n",
              "      <td>145.616</td>\n",
              "      <td>Earthquake</td>\n",
              "      <td>131</td>\n",
              "      <td>NaN</td>\n",
              "      <td>NaN</td>\n",
              "      <td>6.0</td>\n",
              "      <td>MW</td>\n",
              "      <td>...</td>\n",
              "      <td>NaN</td>\n",
              "      <td>NaN</td>\n",
              "      <td>NaN</td>\n",
              "      <td>NaN</td>\n",
              "      <td>NaN</td>\n",
              "      <td>ISCGEM860706</td>\n",
              "      <td>ISCGEM</td>\n",
              "      <td>ISCGEM</td>\n",
              "      <td>ISCGEM</td>\n",
              "      <td>Automatic</td>\n",
              "    </tr>\n",
              "    <tr>\n",
              "      <td>1965-01-04 11:29:49</td>\n",
              "      <td>01/04/1965</td>\n",
              "      <td>11:29:49</td>\n",
              "      <td>1.863</td>\n",
              "      <td>127.352</td>\n",
              "      <td>Earthquake</td>\n",
              "      <td>80</td>\n",
              "      <td>NaN</td>\n",
              "      <td>NaN</td>\n",
              "      <td>5.8</td>\n",
              "      <td>MW</td>\n",
              "      <td>...</td>\n",
              "      <td>NaN</td>\n",
              "      <td>NaN</td>\n",
              "      <td>NaN</td>\n",
              "      <td>NaN</td>\n",
              "      <td>NaN</td>\n",
              "      <td>ISCGEM860737</td>\n",
              "      <td>ISCGEM</td>\n",
              "      <td>ISCGEM</td>\n",
              "      <td>ISCGEM</td>\n",
              "      <td>Automatic</td>\n",
              "    </tr>\n",
              "    <tr>\n",
              "      <td>1965-01-05 18:05:58</td>\n",
              "      <td>01/05/1965</td>\n",
              "      <td>18:05:58</td>\n",
              "      <td>-20.579</td>\n",
              "      <td>-173.972</td>\n",
              "      <td>Earthquake</td>\n",
              "      <td>20</td>\n",
              "      <td>NaN</td>\n",
              "      <td>NaN</td>\n",
              "      <td>6.2</td>\n",
              "      <td>MW</td>\n",
              "      <td>...</td>\n",
              "      <td>NaN</td>\n",
              "      <td>NaN</td>\n",
              "      <td>NaN</td>\n",
              "      <td>NaN</td>\n",
              "      <td>NaN</td>\n",
              "      <td>ISCGEM860762</td>\n",
              "      <td>ISCGEM</td>\n",
              "      <td>ISCGEM</td>\n",
              "      <td>ISCGEM</td>\n",
              "      <td>Automatic</td>\n",
              "    </tr>\n",
              "    <tr>\n",
              "      <td>1965-01-08 18:49:43</td>\n",
              "      <td>01/08/1965</td>\n",
              "      <td>18:49:43</td>\n",
              "      <td>-59.076</td>\n",
              "      <td>-23.557</td>\n",
              "      <td>Earthquake</td>\n",
              "      <td>15</td>\n",
              "      <td>NaN</td>\n",
              "      <td>NaN</td>\n",
              "      <td>5.8</td>\n",
              "      <td>MW</td>\n",
              "      <td>...</td>\n",
              "      <td>NaN</td>\n",
              "      <td>NaN</td>\n",
              "      <td>NaN</td>\n",
              "      <td>NaN</td>\n",
              "      <td>NaN</td>\n",
              "      <td>ISCGEM860856</td>\n",
              "      <td>ISCGEM</td>\n",
              "      <td>ISCGEM</td>\n",
              "      <td>ISCGEM</td>\n",
              "      <td>Automatic</td>\n",
              "    </tr>\n",
              "    <tr>\n",
              "      <td>1965-01-09 13:32:50</td>\n",
              "      <td>01/09/1965</td>\n",
              "      <td>13:32:50</td>\n",
              "      <td>11.938</td>\n",
              "      <td>126.427</td>\n",
              "      <td>Earthquake</td>\n",
              "      <td>15</td>\n",
              "      <td>NaN</td>\n",
              "      <td>NaN</td>\n",
              "      <td>5.8</td>\n",
              "      <td>MW</td>\n",
              "      <td>...</td>\n",
              "      <td>NaN</td>\n",
              "      <td>NaN</td>\n",
              "      <td>NaN</td>\n",
              "      <td>NaN</td>\n",
              "      <td>NaN</td>\n",
              "      <td>ISCGEM860890</td>\n",
              "      <td>ISCGEM</td>\n",
              "      <td>ISCGEM</td>\n",
              "      <td>ISCGEM</td>\n",
              "      <td>Automatic</td>\n",
              "    </tr>\n",
              "  </tbody>\n",
              "</table>\n",
              "<p>5 rows × 21 columns</p>\n",
              "</div>"
            ],
            "text/plain": [
              "                           Date      Time  Latitude  Longitude        Type  \\\n",
              "Datetime                                                                     \n",
              "1965-01-02 13:44:18  01/02/1965  13:44:18    19.246    145.616  Earthquake   \n",
              "1965-01-04 11:29:49  01/04/1965  11:29:49     1.863    127.352  Earthquake   \n",
              "1965-01-05 18:05:58  01/05/1965  18:05:58   -20.579   -173.972  Earthquake   \n",
              "1965-01-08 18:49:43  01/08/1965  18:49:43   -59.076    -23.557  Earthquake   \n",
              "1965-01-09 13:32:50  01/09/1965  13:32:50    11.938    126.427  Earthquake   \n",
              "\n",
              "                     Depth  Depth Error  Depth Seismic Stations  Magnitude  \\\n",
              "Datetime                                                                     \n",
              "1965-01-02 13:44:18    131          NaN                     NaN        6.0   \n",
              "1965-01-04 11:29:49     80          NaN                     NaN        5.8   \n",
              "1965-01-05 18:05:58     20          NaN                     NaN        6.2   \n",
              "1965-01-08 18:49:43     15          NaN                     NaN        5.8   \n",
              "1965-01-09 13:32:50     15          NaN                     NaN        5.8   \n",
              "\n",
              "                    Magnitude Type  ...  Magnitude Seismic Stations  \\\n",
              "Datetime                            ...                               \n",
              "1965-01-02 13:44:18             MW  ...                         NaN   \n",
              "1965-01-04 11:29:49             MW  ...                         NaN   \n",
              "1965-01-05 18:05:58             MW  ...                         NaN   \n",
              "1965-01-08 18:49:43             MW  ...                         NaN   \n",
              "1965-01-09 13:32:50             MW  ...                         NaN   \n",
              "\n",
              "                     Azimuthal Gap  Horizontal Distance  Horizontal Error  \\\n",
              "Datetime                                                                    \n",
              "1965-01-02 13:44:18            NaN                  NaN               NaN   \n",
              "1965-01-04 11:29:49            NaN                  NaN               NaN   \n",
              "1965-01-05 18:05:58            NaN                  NaN               NaN   \n",
              "1965-01-08 18:49:43            NaN                  NaN               NaN   \n",
              "1965-01-09 13:32:50            NaN                  NaN               NaN   \n",
              "\n",
              "                     Root Mean Square            ID  Source Location Source  \\\n",
              "Datetime                                                                      \n",
              "1965-01-02 13:44:18               NaN  ISCGEM860706  ISCGEM          ISCGEM   \n",
              "1965-01-04 11:29:49               NaN  ISCGEM860737  ISCGEM          ISCGEM   \n",
              "1965-01-05 18:05:58               NaN  ISCGEM860762  ISCGEM          ISCGEM   \n",
              "1965-01-08 18:49:43               NaN  ISCGEM860856  ISCGEM          ISCGEM   \n",
              "1965-01-09 13:32:50               NaN  ISCGEM860890  ISCGEM          ISCGEM   \n",
              "\n",
              "                    Magnitude Source     Status  \n",
              "Datetime                                         \n",
              "1965-01-02 13:44:18           ISCGEM  Automatic  \n",
              "1965-01-04 11:29:49           ISCGEM  Automatic  \n",
              "1965-01-05 18:05:58           ISCGEM  Automatic  \n",
              "1965-01-08 18:49:43           ISCGEM  Automatic  \n",
              "1965-01-09 13:32:50           ISCGEM  Automatic  \n",
              "\n",
              "[5 rows x 21 columns]"
            ]
          },
          "execution_count": 16,
          "metadata": {},
          "output_type": "execute_result"
        }
      ],
      "source": [
        "df1.head()"
      ]
    },
    {
      "cell_type": "code",
      "execution_count": null,
      "metadata": {
        "id": "y7Mpq6qCNyBN"
      },
      "outputs": [],
      "source": [
        "df1 = pd.read_csv(\"earthquakes-dataset.csv\", index_col = 0, parse_dates = [['Date','Time']])"
      ]
    },
    {
      "cell_type": "code",
      "execution_count": null,
      "metadata": {
        "id": "dfk0rC2wNyBN",
        "outputId": "dd15908f-ef13-4981-a7d3-3de656316d16"
      },
      "outputs": [
        {
          "data": {
            "text/html": [
              "<div>\n",
              "<style scoped>\n",
              "    .dataframe tbody tr th:only-of-type {\n",
              "        vertical-align: middle;\n",
              "    }\n",
              "\n",
              "    .dataframe tbody tr th {\n",
              "        vertical-align: top;\n",
              "    }\n",
              "\n",
              "    .dataframe thead th {\n",
              "        text-align: right;\n",
              "    }\n",
              "</style>\n",
              "<table border=\"1\" class=\"dataframe\">\n",
              "  <thead>\n",
              "    <tr style=\"text-align: right;\">\n",
              "      <th></th>\n",
              "      <th>Latitude</th>\n",
              "      <th>Longitude</th>\n",
              "      <th>Type</th>\n",
              "      <th>Depth</th>\n",
              "      <th>Depth Error</th>\n",
              "      <th>Depth Seismic Stations</th>\n",
              "      <th>Magnitude</th>\n",
              "      <th>Magnitude Type</th>\n",
              "      <th>Magnitude Error</th>\n",
              "      <th>Magnitude Seismic Stations</th>\n",
              "      <th>Azimuthal Gap</th>\n",
              "      <th>Horizontal Distance</th>\n",
              "      <th>Horizontal Error</th>\n",
              "      <th>Root Mean Square</th>\n",
              "      <th>ID</th>\n",
              "      <th>Source</th>\n",
              "      <th>Location Source</th>\n",
              "      <th>Magnitude Source</th>\n",
              "      <th>Status</th>\n",
              "    </tr>\n",
              "    <tr>\n",
              "      <th>Date_Time</th>\n",
              "      <th></th>\n",
              "      <th></th>\n",
              "      <th></th>\n",
              "      <th></th>\n",
              "      <th></th>\n",
              "      <th></th>\n",
              "      <th></th>\n",
              "      <th></th>\n",
              "      <th></th>\n",
              "      <th></th>\n",
              "      <th></th>\n",
              "      <th></th>\n",
              "      <th></th>\n",
              "      <th></th>\n",
              "      <th></th>\n",
              "      <th></th>\n",
              "      <th></th>\n",
              "      <th></th>\n",
              "      <th></th>\n",
              "    </tr>\n",
              "  </thead>\n",
              "  <tbody>\n",
              "    <tr>\n",
              "      <td>01/02/1965 13:44:18</td>\n",
              "      <td>19.246</td>\n",
              "      <td>145.616</td>\n",
              "      <td>Earthquake</td>\n",
              "      <td>131.6</td>\n",
              "      <td>NaN</td>\n",
              "      <td>NaN</td>\n",
              "      <td>6.0</td>\n",
              "      <td>MW</td>\n",
              "      <td>NaN</td>\n",
              "      <td>NaN</td>\n",
              "      <td>NaN</td>\n",
              "      <td>NaN</td>\n",
              "      <td>NaN</td>\n",
              "      <td>NaN</td>\n",
              "      <td>ISCGEM860706</td>\n",
              "      <td>ISCGEM</td>\n",
              "      <td>ISCGEM</td>\n",
              "      <td>ISCGEM</td>\n",
              "      <td>Automatic</td>\n",
              "    </tr>\n",
              "    <tr>\n",
              "      <td>01/04/1965 11:29:49</td>\n",
              "      <td>1.863</td>\n",
              "      <td>127.352</td>\n",
              "      <td>Earthquake</td>\n",
              "      <td>80.0</td>\n",
              "      <td>NaN</td>\n",
              "      <td>NaN</td>\n",
              "      <td>5.8</td>\n",
              "      <td>MW</td>\n",
              "      <td>NaN</td>\n",
              "      <td>NaN</td>\n",
              "      <td>NaN</td>\n",
              "      <td>NaN</td>\n",
              "      <td>NaN</td>\n",
              "      <td>NaN</td>\n",
              "      <td>ISCGEM860737</td>\n",
              "      <td>ISCGEM</td>\n",
              "      <td>ISCGEM</td>\n",
              "      <td>ISCGEM</td>\n",
              "      <td>Automatic</td>\n",
              "    </tr>\n",
              "    <tr>\n",
              "      <td>01/05/1965 18:05:58</td>\n",
              "      <td>-20.579</td>\n",
              "      <td>-173.972</td>\n",
              "      <td>Earthquake</td>\n",
              "      <td>20.0</td>\n",
              "      <td>NaN</td>\n",
              "      <td>NaN</td>\n",
              "      <td>6.2</td>\n",
              "      <td>MW</td>\n",
              "      <td>NaN</td>\n",
              "      <td>NaN</td>\n",
              "      <td>NaN</td>\n",
              "      <td>NaN</td>\n",
              "      <td>NaN</td>\n",
              "      <td>NaN</td>\n",
              "      <td>ISCGEM860762</td>\n",
              "      <td>ISCGEM</td>\n",
              "      <td>ISCGEM</td>\n",
              "      <td>ISCGEM</td>\n",
              "      <td>Automatic</td>\n",
              "    </tr>\n",
              "    <tr>\n",
              "      <td>01/08/1965 18:49:43</td>\n",
              "      <td>-59.076</td>\n",
              "      <td>-23.557</td>\n",
              "      <td>Earthquake</td>\n",
              "      <td>15.0</td>\n",
              "      <td>NaN</td>\n",
              "      <td>NaN</td>\n",
              "      <td>5.8</td>\n",
              "      <td>MW</td>\n",
              "      <td>NaN</td>\n",
              "      <td>NaN</td>\n",
              "      <td>NaN</td>\n",
              "      <td>NaN</td>\n",
              "      <td>NaN</td>\n",
              "      <td>NaN</td>\n",
              "      <td>ISCGEM860856</td>\n",
              "      <td>ISCGEM</td>\n",
              "      <td>ISCGEM</td>\n",
              "      <td>ISCGEM</td>\n",
              "      <td>Automatic</td>\n",
              "    </tr>\n",
              "    <tr>\n",
              "      <td>01/09/1965 13:32:50</td>\n",
              "      <td>11.938</td>\n",
              "      <td>126.427</td>\n",
              "      <td>Earthquake</td>\n",
              "      <td>15.0</td>\n",
              "      <td>NaN</td>\n",
              "      <td>NaN</td>\n",
              "      <td>5.8</td>\n",
              "      <td>MW</td>\n",
              "      <td>NaN</td>\n",
              "      <td>NaN</td>\n",
              "      <td>NaN</td>\n",
              "      <td>NaN</td>\n",
              "      <td>NaN</td>\n",
              "      <td>NaN</td>\n",
              "      <td>ISCGEM860890</td>\n",
              "      <td>ISCGEM</td>\n",
              "      <td>ISCGEM</td>\n",
              "      <td>ISCGEM</td>\n",
              "      <td>Automatic</td>\n",
              "    </tr>\n",
              "  </tbody>\n",
              "</table>\n",
              "</div>"
            ],
            "text/plain": [
              "                     Latitude  Longitude        Type  Depth  Depth Error  \\\n",
              "Date_Time                                                                  \n",
              "01/02/1965 13:44:18    19.246    145.616  Earthquake  131.6          NaN   \n",
              "01/04/1965 11:29:49     1.863    127.352  Earthquake   80.0          NaN   \n",
              "01/05/1965 18:05:58   -20.579   -173.972  Earthquake   20.0          NaN   \n",
              "01/08/1965 18:49:43   -59.076    -23.557  Earthquake   15.0          NaN   \n",
              "01/09/1965 13:32:50    11.938    126.427  Earthquake   15.0          NaN   \n",
              "\n",
              "                     Depth Seismic Stations  Magnitude Magnitude Type  \\\n",
              "Date_Time                                                               \n",
              "01/02/1965 13:44:18                     NaN        6.0             MW   \n",
              "01/04/1965 11:29:49                     NaN        5.8             MW   \n",
              "01/05/1965 18:05:58                     NaN        6.2             MW   \n",
              "01/08/1965 18:49:43                     NaN        5.8             MW   \n",
              "01/09/1965 13:32:50                     NaN        5.8             MW   \n",
              "\n",
              "                     Magnitude Error  Magnitude Seismic Stations  \\\n",
              "Date_Time                                                          \n",
              "01/02/1965 13:44:18              NaN                         NaN   \n",
              "01/04/1965 11:29:49              NaN                         NaN   \n",
              "01/05/1965 18:05:58              NaN                         NaN   \n",
              "01/08/1965 18:49:43              NaN                         NaN   \n",
              "01/09/1965 13:32:50              NaN                         NaN   \n",
              "\n",
              "                     Azimuthal Gap  Horizontal Distance  Horizontal Error  \\\n",
              "Date_Time                                                                   \n",
              "01/02/1965 13:44:18            NaN                  NaN               NaN   \n",
              "01/04/1965 11:29:49            NaN                  NaN               NaN   \n",
              "01/05/1965 18:05:58            NaN                  NaN               NaN   \n",
              "01/08/1965 18:49:43            NaN                  NaN               NaN   \n",
              "01/09/1965 13:32:50            NaN                  NaN               NaN   \n",
              "\n",
              "                     Root Mean Square            ID  Source Location Source  \\\n",
              "Date_Time                                                                     \n",
              "01/02/1965 13:44:18               NaN  ISCGEM860706  ISCGEM          ISCGEM   \n",
              "01/04/1965 11:29:49               NaN  ISCGEM860737  ISCGEM          ISCGEM   \n",
              "01/05/1965 18:05:58               NaN  ISCGEM860762  ISCGEM          ISCGEM   \n",
              "01/08/1965 18:49:43               NaN  ISCGEM860856  ISCGEM          ISCGEM   \n",
              "01/09/1965 13:32:50               NaN  ISCGEM860890  ISCGEM          ISCGEM   \n",
              "\n",
              "                    Magnitude Source     Status  \n",
              "Date_Time                                        \n",
              "01/02/1965 13:44:18           ISCGEM  Automatic  \n",
              "01/04/1965 11:29:49           ISCGEM  Automatic  \n",
              "01/05/1965 18:05:58           ISCGEM  Automatic  \n",
              "01/08/1965 18:49:43           ISCGEM  Automatic  \n",
              "01/09/1965 13:32:50           ISCGEM  Automatic  "
            ]
          },
          "execution_count": 18,
          "metadata": {},
          "output_type": "execute_result"
        }
      ],
      "source": [
        "df1.head()"
      ]
    },
    {
      "cell_type": "code",
      "execution_count": null,
      "metadata": {
        "id": "L1neQwY6NyBO",
        "outputId": "2e22b115-161a-4ea7-961d-c0b3aa731c16"
      },
      "outputs": [
        {
          "data": {
            "text/plain": [
              "Index(['01/02/1965 13:44:18', '01/04/1965 11:29:49', '01/05/1965 18:05:58',\n",
              "       '01/08/1965 18:49:43', '01/09/1965 13:32:50', '01/10/1965 13:36:32',\n",
              "       '01/12/1965 13:32:25', '01/15/1965 23:17:42', '01/16/1965 11:32:37',\n",
              "       '01/17/1965 10:43:17',\n",
              "       ...\n",
              "       '12/24/2016 03:58:55', '12/25/2016 14:22:27', '12/25/2016 14:32:13',\n",
              "       '12/27/2016 23:20:56', '12/28/2016 08:18:01', '12/28/2016 08:22:12',\n",
              "       '12/28/2016 09:13:47', '12/28/2016 12:38:51', '12/29/2016 22:30:19',\n",
              "       '12/30/2016 20:08:28'],\n",
              "      dtype='object', name='Date_Time', length=23412)"
            ]
          },
          "execution_count": 19,
          "metadata": {},
          "output_type": "execute_result"
        }
      ],
      "source": [
        "df1.index"
      ]
    },
    {
      "cell_type": "code",
      "execution_count": null,
      "metadata": {
        "id": "k35pDicmNyBO"
      },
      "outputs": [],
      "source": [
        "df1.index = pd.to_datetime(df1.index, errors = 'coerce')"
      ]
    },
    {
      "cell_type": "code",
      "execution_count": null,
      "metadata": {
        "id": "rHmDhF3vNyBO",
        "outputId": "9e096de9-aa61-4d17-aad6-ef82d9e7d03c"
      },
      "outputs": [
        {
          "data": {
            "text/plain": [
              "DatetimeIndex(['1965-01-02 13:44:18', '1965-01-04 11:29:49',\n",
              "               '1965-01-05 18:05:58', '1965-01-08 18:49:43',\n",
              "               '1965-01-09 13:32:50', '1965-01-10 13:36:32',\n",
              "               '1965-01-12 13:32:25', '1965-01-15 23:17:42',\n",
              "               '1965-01-16 11:32:37', '1965-01-17 10:43:17',\n",
              "               ...\n",
              "               '2016-12-24 03:58:55', '2016-12-25 14:22:27',\n",
              "               '2016-12-25 14:32:13', '2016-12-27 23:20:56',\n",
              "               '2016-12-28 08:18:01', '2016-12-28 08:22:12',\n",
              "               '2016-12-28 09:13:47', '2016-12-28 12:38:51',\n",
              "               '2016-12-29 22:30:19', '2016-12-30 20:08:28'],\n",
              "              dtype='datetime64[ns]', name='Date_Time', length=23412, freq=None)"
            ]
          },
          "execution_count": 21,
          "metadata": {},
          "output_type": "execute_result"
        }
      ],
      "source": [
        "df1.index"
      ]
    },
    {
      "cell_type": "code",
      "execution_count": null,
      "metadata": {
        "id": "wMocuSX_NyBP",
        "outputId": "99910949-5ef7-4a84-aa5b-eedb9a0e08ce"
      },
      "outputs": [
        {
          "name": "stdout",
          "output_type": "stream",
          "text": [
            "<class 'pandas.core.frame.DataFrame'>\n",
            "DatetimeIndex: 23412 entries, 1965-01-02 13:44:18 to 2016-12-30 20:08:28\n",
            "Data columns (total 19 columns):\n",
            "Latitude                      23412 non-null float64\n",
            "Longitude                     23412 non-null float64\n",
            "Type                          23412 non-null object\n",
            "Depth                         23412 non-null float64\n",
            "Depth Error                   4461 non-null float64\n",
            "Depth Seismic Stations        7097 non-null float64\n",
            "Magnitude                     23412 non-null float64\n",
            "Magnitude Type                23409 non-null object\n",
            "Magnitude Error               327 non-null float64\n",
            "Magnitude Seismic Stations    2564 non-null float64\n",
            "Azimuthal Gap                 7299 non-null float64\n",
            "Horizontal Distance           1604 non-null float64\n",
            "Horizontal Error              1156 non-null float64\n",
            "Root Mean Square              17352 non-null float64\n",
            "ID                            23412 non-null object\n",
            "Source                        23412 non-null object\n",
            "Location Source               23412 non-null object\n",
            "Magnitude Source              23412 non-null object\n",
            "Status                        23412 non-null object\n",
            "dtypes: float64(12), object(7)\n",
            "memory usage: 3.6+ MB\n"
          ]
        }
      ],
      "source": [
        "df1.info()"
      ]
    },
    {
      "cell_type": "code",
      "execution_count": null,
      "metadata": {
        "id": "mCuycuwvNyBP"
      },
      "outputs": [],
      "source": [
        "df1 = df1.dropna(axis = 1)"
      ]
    },
    {
      "cell_type": "code",
      "execution_count": null,
      "metadata": {
        "id": "tX1pzXOsNyBQ",
        "outputId": "bc6241ed-b6bd-4560-9477-d35b4277319d"
      },
      "outputs": [
        {
          "data": {
            "text/html": [
              "<div>\n",
              "<style scoped>\n",
              "    .dataframe tbody tr th:only-of-type {\n",
              "        vertical-align: middle;\n",
              "    }\n",
              "\n",
              "    .dataframe tbody tr th {\n",
              "        vertical-align: top;\n",
              "    }\n",
              "\n",
              "    .dataframe thead th {\n",
              "        text-align: right;\n",
              "    }\n",
              "</style>\n",
              "<table border=\"1\" class=\"dataframe\">\n",
              "  <thead>\n",
              "    <tr style=\"text-align: right;\">\n",
              "      <th></th>\n",
              "      <th>Latitude</th>\n",
              "      <th>Longitude</th>\n",
              "      <th>Type</th>\n",
              "      <th>Depth</th>\n",
              "      <th>Magnitude</th>\n",
              "      <th>ID</th>\n",
              "      <th>Source</th>\n",
              "      <th>Location Source</th>\n",
              "      <th>Magnitude Source</th>\n",
              "      <th>Status</th>\n",
              "    </tr>\n",
              "    <tr>\n",
              "      <th>Date_Time</th>\n",
              "      <th></th>\n",
              "      <th></th>\n",
              "      <th></th>\n",
              "      <th></th>\n",
              "      <th></th>\n",
              "      <th></th>\n",
              "      <th></th>\n",
              "      <th></th>\n",
              "      <th></th>\n",
              "      <th></th>\n",
              "    </tr>\n",
              "  </thead>\n",
              "  <tbody>\n",
              "    <tr>\n",
              "      <td>1965-01-02 13:44:18</td>\n",
              "      <td>19.246</td>\n",
              "      <td>145.616</td>\n",
              "      <td>Earthquake</td>\n",
              "      <td>131.6</td>\n",
              "      <td>6.0</td>\n",
              "      <td>ISCGEM860706</td>\n",
              "      <td>ISCGEM</td>\n",
              "      <td>ISCGEM</td>\n",
              "      <td>ISCGEM</td>\n",
              "      <td>Automatic</td>\n",
              "    </tr>\n",
              "    <tr>\n",
              "      <td>1965-01-04 11:29:49</td>\n",
              "      <td>1.863</td>\n",
              "      <td>127.352</td>\n",
              "      <td>Earthquake</td>\n",
              "      <td>80.0</td>\n",
              "      <td>5.8</td>\n",
              "      <td>ISCGEM860737</td>\n",
              "      <td>ISCGEM</td>\n",
              "      <td>ISCGEM</td>\n",
              "      <td>ISCGEM</td>\n",
              "      <td>Automatic</td>\n",
              "    </tr>\n",
              "    <tr>\n",
              "      <td>1965-01-05 18:05:58</td>\n",
              "      <td>-20.579</td>\n",
              "      <td>-173.972</td>\n",
              "      <td>Earthquake</td>\n",
              "      <td>20.0</td>\n",
              "      <td>6.2</td>\n",
              "      <td>ISCGEM860762</td>\n",
              "      <td>ISCGEM</td>\n",
              "      <td>ISCGEM</td>\n",
              "      <td>ISCGEM</td>\n",
              "      <td>Automatic</td>\n",
              "    </tr>\n",
              "    <tr>\n",
              "      <td>1965-01-08 18:49:43</td>\n",
              "      <td>-59.076</td>\n",
              "      <td>-23.557</td>\n",
              "      <td>Earthquake</td>\n",
              "      <td>15.0</td>\n",
              "      <td>5.8</td>\n",
              "      <td>ISCGEM860856</td>\n",
              "      <td>ISCGEM</td>\n",
              "      <td>ISCGEM</td>\n",
              "      <td>ISCGEM</td>\n",
              "      <td>Automatic</td>\n",
              "    </tr>\n",
              "    <tr>\n",
              "      <td>1965-01-09 13:32:50</td>\n",
              "      <td>11.938</td>\n",
              "      <td>126.427</td>\n",
              "      <td>Earthquake</td>\n",
              "      <td>15.0</td>\n",
              "      <td>5.8</td>\n",
              "      <td>ISCGEM860890</td>\n",
              "      <td>ISCGEM</td>\n",
              "      <td>ISCGEM</td>\n",
              "      <td>ISCGEM</td>\n",
              "      <td>Automatic</td>\n",
              "    </tr>\n",
              "  </tbody>\n",
              "</table>\n",
              "</div>"
            ],
            "text/plain": [
              "                     Latitude  Longitude        Type  Depth  Magnitude  \\\n",
              "Date_Time                                                                \n",
              "1965-01-02 13:44:18    19.246    145.616  Earthquake  131.6        6.0   \n",
              "1965-01-04 11:29:49     1.863    127.352  Earthquake   80.0        5.8   \n",
              "1965-01-05 18:05:58   -20.579   -173.972  Earthquake   20.0        6.2   \n",
              "1965-01-08 18:49:43   -59.076    -23.557  Earthquake   15.0        5.8   \n",
              "1965-01-09 13:32:50    11.938    126.427  Earthquake   15.0        5.8   \n",
              "\n",
              "                               ID  Source Location Source Magnitude Source  \\\n",
              "Date_Time                                                                    \n",
              "1965-01-02 13:44:18  ISCGEM860706  ISCGEM          ISCGEM           ISCGEM   \n",
              "1965-01-04 11:29:49  ISCGEM860737  ISCGEM          ISCGEM           ISCGEM   \n",
              "1965-01-05 18:05:58  ISCGEM860762  ISCGEM          ISCGEM           ISCGEM   \n",
              "1965-01-08 18:49:43  ISCGEM860856  ISCGEM          ISCGEM           ISCGEM   \n",
              "1965-01-09 13:32:50  ISCGEM860890  ISCGEM          ISCGEM           ISCGEM   \n",
              "\n",
              "                        Status  \n",
              "Date_Time                       \n",
              "1965-01-02 13:44:18  Automatic  \n",
              "1965-01-04 11:29:49  Automatic  \n",
              "1965-01-05 18:05:58  Automatic  \n",
              "1965-01-08 18:49:43  Automatic  \n",
              "1965-01-09 13:32:50  Automatic  "
            ]
          },
          "execution_count": 24,
          "metadata": {},
          "output_type": "execute_result"
        }
      ],
      "source": [
        "df1.head()"
      ]
    },
    {
      "cell_type": "code",
      "execution_count": null,
      "metadata": {
        "id": "8I09sHC3NyBQ",
        "outputId": "646f7c43-1322-4ba1-c266-fd605a89a8e2"
      },
      "outputs": [
        {
          "name": "stdout",
          "output_type": "stream",
          "text": [
            "<class 'pandas.core.frame.DataFrame'>\n",
            "DatetimeIndex: 23412 entries, 1965-01-02 13:44:18 to 2016-12-30 20:08:28\n",
            "Data columns (total 10 columns):\n",
            "Latitude            23412 non-null float64\n",
            "Longitude           23412 non-null float64\n",
            "Type                23412 non-null object\n",
            "Depth               23412 non-null float64\n",
            "Magnitude           23412 non-null float64\n",
            "ID                  23412 non-null object\n",
            "Source              23412 non-null object\n",
            "Location Source     23412 non-null object\n",
            "Magnitude Source    23412 non-null object\n",
            "Status              23412 non-null object\n",
            "dtypes: float64(4), object(6)\n",
            "memory usage: 2.0+ MB\n"
          ]
        }
      ],
      "source": [
        "df1.info()"
      ]
    },
    {
      "cell_type": "code",
      "execution_count": null,
      "metadata": {
        "id": "6nY8zrT3NyBQ"
      },
      "outputs": [],
      "source": [
        "df2 = df1[['Latitude', 'Longitude', 'Type', 'Depth', 'Magnitude']]"
      ]
    },
    {
      "cell_type": "code",
      "execution_count": null,
      "metadata": {
        "id": "NeoFeBEsNyBQ",
        "outputId": "3ab52cce-2996-4004-cc8b-0cf3dcd2279b"
      },
      "outputs": [
        {
          "data": {
            "text/html": [
              "<div>\n",
              "<style scoped>\n",
              "    .dataframe tbody tr th:only-of-type {\n",
              "        vertical-align: middle;\n",
              "    }\n",
              "\n",
              "    .dataframe tbody tr th {\n",
              "        vertical-align: top;\n",
              "    }\n",
              "\n",
              "    .dataframe thead th {\n",
              "        text-align: right;\n",
              "    }\n",
              "</style>\n",
              "<table border=\"1\" class=\"dataframe\">\n",
              "  <thead>\n",
              "    <tr style=\"text-align: right;\">\n",
              "      <th></th>\n",
              "      <th>Latitude</th>\n",
              "      <th>Longitude</th>\n",
              "      <th>Type</th>\n",
              "      <th>Depth</th>\n",
              "      <th>Magnitude</th>\n",
              "    </tr>\n",
              "    <tr>\n",
              "      <th>Date_Time</th>\n",
              "      <th></th>\n",
              "      <th></th>\n",
              "      <th></th>\n",
              "      <th></th>\n",
              "      <th></th>\n",
              "    </tr>\n",
              "  </thead>\n",
              "  <tbody>\n",
              "    <tr>\n",
              "      <td>2007-05-13 11:26:43</td>\n",
              "      <td>-19.5130</td>\n",
              "      <td>-179.3290</td>\n",
              "      <td>Earthquake</td>\n",
              "      <td>668.60</td>\n",
              "      <td>5.8</td>\n",
              "    </tr>\n",
              "    <tr>\n",
              "      <td>1994-04-10 17:36:57</td>\n",
              "      <td>14.7200</td>\n",
              "      <td>-92.0040</td>\n",
              "      <td>Earthquake</td>\n",
              "      <td>100.10</td>\n",
              "      <td>6.0</td>\n",
              "    </tr>\n",
              "    <tr>\n",
              "      <td>2016-10-28 05:26:56</td>\n",
              "      <td>-4.6721</td>\n",
              "      <td>153.2156</td>\n",
              "      <td>Earthquake</td>\n",
              "      <td>45.15</td>\n",
              "      <td>5.9</td>\n",
              "    </tr>\n",
              "    <tr>\n",
              "      <td>2002-05-22 18:57:19</td>\n",
              "      <td>-36.3440</td>\n",
              "      <td>-97.9080</td>\n",
              "      <td>Earthquake</td>\n",
              "      <td>10.00</td>\n",
              "      <td>5.7</td>\n",
              "    </tr>\n",
              "    <tr>\n",
              "      <td>1997-04-02 06:14:31</td>\n",
              "      <td>11.4120</td>\n",
              "      <td>-60.9420</td>\n",
              "      <td>Earthquake</td>\n",
              "      <td>45.00</td>\n",
              "      <td>6.1</td>\n",
              "    </tr>\n",
              "  </tbody>\n",
              "</table>\n",
              "</div>"
            ],
            "text/plain": [
              "                     Latitude  Longitude        Type   Depth  Magnitude\n",
              "Date_Time                                                              \n",
              "2007-05-13 11:26:43  -19.5130  -179.3290  Earthquake  668.60        5.8\n",
              "1994-04-10 17:36:57   14.7200   -92.0040  Earthquake  100.10        6.0\n",
              "2016-10-28 05:26:56   -4.6721   153.2156  Earthquake   45.15        5.9\n",
              "2002-05-22 18:57:19  -36.3440   -97.9080  Earthquake   10.00        5.7\n",
              "1997-04-02 06:14:31   11.4120   -60.9420  Earthquake   45.00        6.1"
            ]
          },
          "execution_count": 27,
          "metadata": {},
          "output_type": "execute_result"
        }
      ],
      "source": [
        "df2.sample(5)"
      ]
    },
    {
      "cell_type": "code",
      "execution_count": null,
      "metadata": {
        "id": "nmWCNh6DNyBR",
        "outputId": "27d634f6-a6f4-43a8-af41-9313663ccb22"
      },
      "outputs": [
        {
          "data": {
            "text/plain": [
              "array(['Earthquake', 'Nuclear Explosion', 'Explosion', 'Rock Burst'],\n",
              "      dtype=object)"
            ]
          },
          "execution_count": 28,
          "metadata": {},
          "output_type": "execute_result"
        }
      ],
      "source": [
        "df2.Type.unique()"
      ]
    },
    {
      "cell_type": "code",
      "execution_count": null,
      "metadata": {
        "id": "bk2FSumlNyBR",
        "outputId": "b80f043e-437b-432d-9eed-4fa7051751b4"
      },
      "outputs": [
        {
          "data": {
            "text/plain": [
              "9.1"
            ]
          },
          "execution_count": 29,
          "metadata": {},
          "output_type": "execute_result"
        }
      ],
      "source": [
        "df2[df2.Type == 'Earthquake'].Magnitude.max()"
      ]
    },
    {
      "cell_type": "code",
      "execution_count": null,
      "metadata": {
        "id": "LiIk5ryKNyBR",
        "outputId": "776aff12-5477-470f-c7ab-2ea4edaeda45"
      },
      "outputs": [
        {
          "data": {
            "text/plain": [
              "700.0"
            ]
          },
          "execution_count": 30,
          "metadata": {},
          "output_type": "execute_result"
        }
      ],
      "source": [
        "df2[df2.Type == 'Earthquake'].Depth.max()"
      ]
    },
    {
      "cell_type": "code",
      "execution_count": null,
      "metadata": {
        "id": "PiCs09xrNyBR",
        "outputId": "dbac2c95-c2ff-40b9-a6e7-238e887b4edf"
      },
      "outputs": [
        {
          "data": {
            "text/plain": [
              "-1.1"
            ]
          },
          "execution_count": 31,
          "metadata": {},
          "output_type": "execute_result"
        }
      ],
      "source": [
        "df2[df2.Type == 'Earthquake'].Depth.min()"
      ]
    },
    {
      "cell_type": "code",
      "execution_count": null,
      "metadata": {
        "id": "1vtOg0T7NyBS",
        "outputId": "c2f695c3-03ee-4281-fd26-3c165c4ce604"
      },
      "outputs": [
        {
          "data": {
            "text/plain": [
              "Earthquake           23232\n",
              "Nuclear Explosion      175\n",
              "Explosion                4\n",
              "Rock Burst               1\n",
              "Name: Type, dtype: int64"
            ]
          },
          "execution_count": 32,
          "metadata": {},
          "output_type": "execute_result"
        }
      ],
      "source": [
        "df2.Type.value_counts()"
      ]
    },
    {
      "cell_type": "code",
      "execution_count": null,
      "metadata": {
        "id": "KBZmSXtlNyBS",
        "outputId": "7716f174-28d8-4c31-a7e4-e8869e2de6ae"
      },
      "outputs": [
        {
          "data": {
            "text/plain": [
              "Date_Time\n",
              "1965-01-02    6.00\n",
              "1965-01-03     NaN\n",
              "1965-01-04    5.80\n",
              "1965-01-05    6.20\n",
              "1965-01-06     NaN\n",
              "              ... \n",
              "2016-12-26     NaN\n",
              "2016-12-27    5.60\n",
              "2016-12-28    5.65\n",
              "2016-12-29    6.30\n",
              "2016-12-30    5.50\n",
              "Name: Magnitude, Length: 18991, dtype: float64"
            ]
          },
          "execution_count": 33,
          "metadata": {},
          "output_type": "execute_result"
        }
      ],
      "source": [
        "df2['Magnitude'][df2.Type == 'Earthquake'].resample('1D').mean()"
      ]
    },
    {
      "cell_type": "code",
      "execution_count": null,
      "metadata": {
        "scrolled": true,
        "id": "hyGcmv1FNyBS",
        "outputId": "b0c954a6-353f-4845-8f01-87f4111890c4"
      },
      "outputs": [
        {
          "data": {
            "text/plain": [
              "Date_Time\n",
              "1965-01-31    0.683318\n",
              "1965-02-28    0.510518\n",
              "1965-03-31    0.536068\n",
              "1965-04-30    0.262311\n",
              "1965-05-31    0.467748\n",
              "                ...   \n",
              "2016-08-31    0.522631\n",
              "2016-09-30    0.352273\n",
              "2016-10-31    0.330896\n",
              "2016-11-30    0.475149\n",
              "2016-12-31    0.575674\n",
              "Name: Magnitude, Length: 624, dtype: float64"
            ]
          },
          "execution_count": 34,
          "metadata": {},
          "output_type": "execute_result"
        }
      ],
      "source": [
        "df2['Magnitude'][df2.Type == 'Earthquake'].resample('1M').std()"
      ]
    },
    {
      "cell_type": "code",
      "execution_count": null,
      "metadata": {
        "id": "8AC_a6dtNyBS",
        "outputId": "efbff51c-e656-4345-feda-6287d243bd0c"
      },
      "outputs": [
        {
          "data": {
            "text/html": [
              "<div>\n",
              "<style scoped>\n",
              "    .dataframe tbody tr th:only-of-type {\n",
              "        vertical-align: middle;\n",
              "    }\n",
              "\n",
              "    .dataframe tbody tr th {\n",
              "        vertical-align: top;\n",
              "    }\n",
              "\n",
              "    .dataframe thead th {\n",
              "        text-align: right;\n",
              "    }\n",
              "</style>\n",
              "<table border=\"1\" class=\"dataframe\">\n",
              "  <thead>\n",
              "    <tr style=\"text-align: right;\">\n",
              "      <th></th>\n",
              "      <th>Latitude</th>\n",
              "      <th>Longitude</th>\n",
              "      <th>Type</th>\n",
              "      <th>Depth</th>\n",
              "      <th>Magnitude</th>\n",
              "    </tr>\n",
              "    <tr>\n",
              "      <th>Date_Time</th>\n",
              "      <th></th>\n",
              "      <th></th>\n",
              "      <th></th>\n",
              "      <th></th>\n",
              "      <th></th>\n",
              "    </tr>\n",
              "  </thead>\n",
              "  <tbody>\n",
              "    <tr>\n",
              "      <td>2004-12-26 00:58:53</td>\n",
              "      <td>3.295</td>\n",
              "      <td>95.982</td>\n",
              "      <td>Earthquake</td>\n",
              "      <td>30.0</td>\n",
              "      <td>9.1</td>\n",
              "    </tr>\n",
              "    <tr>\n",
              "      <td>2011-03-11 05:46:24</td>\n",
              "      <td>38.297</td>\n",
              "      <td>142.373</td>\n",
              "      <td>Earthquake</td>\n",
              "      <td>29.0</td>\n",
              "      <td>9.1</td>\n",
              "    </tr>\n",
              "  </tbody>\n",
              "</table>\n",
              "</div>"
            ],
            "text/plain": [
              "                     Latitude  Longitude        Type  Depth  Magnitude\n",
              "Date_Time                                                             \n",
              "2004-12-26 00:58:53     3.295     95.982  Earthquake   30.0        9.1\n",
              "2011-03-11 05:46:24    38.297    142.373  Earthquake   29.0        9.1"
            ]
          },
          "execution_count": 35,
          "metadata": {},
          "output_type": "execute_result"
        }
      ],
      "source": [
        "df2.loc[df2['Magnitude'] == 9.1]"
      ]
    },
    {
      "cell_type": "code",
      "execution_count": null,
      "metadata": {
        "id": "WaU-VfpKNyBT",
        "outputId": "8c3fbc15-20c7-4d1e-e5af-42884ec7cbf8"
      },
      "outputs": [
        {
          "data": {
            "text/html": [
              "<div>\n",
              "<style scoped>\n",
              "    .dataframe tbody tr th:only-of-type {\n",
              "        vertical-align: middle;\n",
              "    }\n",
              "\n",
              "    .dataframe tbody tr th {\n",
              "        vertical-align: top;\n",
              "    }\n",
              "\n",
              "    .dataframe thead th {\n",
              "        text-align: right;\n",
              "    }\n",
              "</style>\n",
              "<table border=\"1\" class=\"dataframe\">\n",
              "  <thead>\n",
              "    <tr style=\"text-align: right;\">\n",
              "      <th></th>\n",
              "      <th>Latitude</th>\n",
              "      <th>Longitude</th>\n",
              "      <th>Type</th>\n",
              "      <th>Depth</th>\n",
              "      <th>Magnitude</th>\n",
              "    </tr>\n",
              "    <tr>\n",
              "      <th>Date_Time</th>\n",
              "      <th></th>\n",
              "      <th></th>\n",
              "      <th></th>\n",
              "      <th></th>\n",
              "      <th></th>\n",
              "    </tr>\n",
              "  </thead>\n",
              "  <tbody>\n",
              "    <tr>\n",
              "      <td>1992-06-28 12:00:45</td>\n",
              "      <td>34.131</td>\n",
              "      <td>-116.408</td>\n",
              "      <td>Earthquake</td>\n",
              "      <td>-1.1</td>\n",
              "      <td>5.77</td>\n",
              "    </tr>\n",
              "  </tbody>\n",
              "</table>\n",
              "</div>"
            ],
            "text/plain": [
              "                     Latitude  Longitude        Type  Depth  Magnitude\n",
              "Date_Time                                                             \n",
              "1992-06-28 12:00:45    34.131   -116.408  Earthquake   -1.1       5.77"
            ]
          },
          "execution_count": 36,
          "metadata": {},
          "output_type": "execute_result"
        }
      ],
      "source": [
        "df2.loc[df2['Depth'] == -1.1]"
      ]
    },
    {
      "cell_type": "code",
      "execution_count": null,
      "metadata": {
        "scrolled": false,
        "id": "qO9oBKlnNyBT",
        "outputId": "03942ce8-babd-428e-bce3-7452b8b9f04c"
      },
      "outputs": [
        {
          "data": {
            "text/plain": [
              "1966.0     1\n",
              "1968.0     2\n",
              "1969.0     1\n",
              "1970.0     1\n",
              "1973.0     6\n",
              "1974.0     6\n",
              "1975.0     9\n",
              "1976.0    10\n",
              "1977.0     8\n",
              "1978.0    15\n",
              "1979.0    13\n",
              "1980.0    13\n",
              "1981.0     8\n",
              "1982.0     6\n",
              "1983.0    10\n",
              "1984.0    14\n",
              "1985.0     6\n",
              "1986.0     1\n",
              "1987.0    16\n",
              "1988.0    10\n",
              "1989.0     7\n",
              "1990.0     4\n",
              "1991.0     1\n",
              "1992.0     1\n",
              "1993.0     1\n",
              "1994.0     2\n",
              "1995.0     2\n",
              "1996.0     1\n",
              "Name: Date_Time, dtype: int64"
            ]
          },
          "execution_count": 37,
          "metadata": {},
          "output_type": "execute_result"
        }
      ],
      "source": [
        "df2.index.year[df2.Type == 'Nuclear Explosion'].value_counts().sort_index()"
      ]
    },
    {
      "cell_type": "code",
      "execution_count": null,
      "metadata": {
        "id": "hHjFdCr0NyBT"
      },
      "outputs": [],
      "source": [
        "import matplotlib as mpl\n",
        "import matplotlib.pyplot as plt"
      ]
    },
    {
      "cell_type": "code",
      "execution_count": null,
      "metadata": {
        "id": "UeetwuN1NyBT",
        "outputId": "8223e812-99c7-4ba6-be76-f073202700e0"
      },
      "outputs": [
        {
          "name": "stdout",
          "output_type": "stream",
          "text": [
            "Collecting package metadata: done\n",
            "Solving environment: done\n",
            "\n",
            "\n",
            "==> WARNING: A newer version of conda exists. <==\n",
            "  current version: 4.6.14\n",
            "  latest version: 4.7.12\n",
            "\n",
            "Please update conda by running\n",
            "\n",
            "    $ conda update -n base -c defaults conda\n",
            "\n",
            "\n",
            "\n",
            "# All requested packages already installed.\n",
            "\n",
            "\n",
            "Note: you may need to restart the kernel to use updated packages.\n"
          ]
        }
      ],
      "source": [
        "conda install matplotlib"
      ]
    },
    {
      "cell_type": "code",
      "execution_count": null,
      "metadata": {
        "id": "DxumSnBbNyBU",
        "outputId": "c1247b91-0ef3-425d-ff08-f41633391e54"
      },
      "outputs": [
        {
          "name": "stdout",
          "output_type": "stream",
          "text": [
            "Requirement already satisfied: matplotlib in /anaconda3/envs/acg/lib/python3.7/site-packages (3.1.1)\n",
            "Requirement already satisfied: cycler>=0.10 in /anaconda3/envs/acg/lib/python3.7/site-packages (from matplotlib) (0.10.0)\n",
            "Requirement already satisfied: kiwisolver>=1.0.1 in /anaconda3/envs/acg/lib/python3.7/site-packages (from matplotlib) (1.1.0)\n",
            "Requirement already satisfied: pyparsing!=2.0.4,!=2.1.2,!=2.1.6,>=2.0.1 in /anaconda3/envs/acg/lib/python3.7/site-packages (from matplotlib) (2.4.0)\n",
            "Requirement already satisfied: python-dateutil>=2.1 in /anaconda3/envs/acg/lib/python3.7/site-packages (from matplotlib) (2.8.0)\n",
            "Requirement already satisfied: numpy>=1.11 in /anaconda3/envs/acg/lib/python3.7/site-packages (from matplotlib) (1.16.4)\n",
            "Requirement already satisfied: six in /anaconda3/envs/acg/lib/python3.7/site-packages (from cycler>=0.10->matplotlib) (1.12.0)\n",
            "Requirement already satisfied: setuptools in /anaconda3/envs/acg/lib/python3.7/site-packages (from kiwisolver>=1.0.1->matplotlib) (41.0.0)\n",
            "Note: you may need to restart the kernel to use updated packages.\n"
          ]
        }
      ],
      "source": [
        "pip install matplotlib"
      ]
    },
    {
      "cell_type": "code",
      "execution_count": null,
      "metadata": {
        "id": "ZvhwnYi4NyBU"
      },
      "outputs": [],
      "source": [
        "%matplotlib inline"
      ]
    },
    {
      "cell_type": "code",
      "execution_count": null,
      "metadata": {
        "id": "5CEHFKB6NyBU",
        "outputId": "edf31b6b-b64b-4c63-d273-b76df467d69e"
      },
      "outputs": [
        {
          "data": {
            "text/plain": [
              "(array([1.4107e+04, 5.6570e+03, 1.8100e+03, 1.1000e+03, 3.9300e+02,\n",
              "        2.1400e+02, 1.0400e+02, 1.9000e+01, 5.0000e+00, 3.0000e+00]),\n",
              " array([5.5 , 5.86, 6.22, 6.58, 6.94, 7.3 , 7.66, 8.02, 8.38, 8.74, 9.1 ]),\n",
              " <a list of 10 Patch objects>)"
            ]
          },
          "execution_count": 42,
          "metadata": {},
          "output_type": "execute_result"
        },
        {
          "data": {
            "image/png": "[encoded data removed]",
            "text/plain": [
              "<Figure size 432x288 with 1 Axes>"
            ]
          },
          "metadata": {
            "needs_background": "light"
          },
          "output_type": "display_data"
        }
      ],
      "source": [
        "plt.hist(df2['Magnitude'])"
      ]
    },
    {
      "cell_type": "code",
      "execution_count": null,
      "metadata": {
        "id": "7JPMLz3zNyBU",
        "outputId": "9ee941cd-5b23-4414-89d1-741effda7491"
      },
      "outputs": [
        {
          "data": {
            "text/plain": [
              "Text(0.5, 1.0, '1965-2016 Earthquakes')"
            ]
          },
          "execution_count": 43,
          "metadata": {},
          "output_type": "execute_result"
        },
        {
          "data": {
            "image/png": "[encoded data removed]",
            "text/plain": [
              "<Figure size 432x288 with 1 Axes>"
            ]
          },
          "metadata": {
            "needs_background": "light"
          },
          "output_type": "display_data"
        }
      ],
      "source": [
        "plt.hist(df2['Magnitude'])\n",
        "plt.xlabel('Magnitude')\n",
        "plt.ylabel('Number of Earthquakes')\n",
        "plt.title('1965-2016 Earthquakes')"
      ]
    },
    {
      "cell_type": "code",
      "execution_count": null,
      "metadata": {
        "id": "tatm1CuNNyBV",
        "outputId": "0abc0a34-062b-4835-d69d-92f65b9b5664"
      },
      "outputs": [
        {
          "data": {
            "text/plain": [
              "Text(0.5, 1.0, '1965-2016 Earthquakes')"
            ]
          },
          "execution_count": 44,
          "metadata": {},
          "output_type": "execute_result"
        },
        {
          "data": {
            "image/png": "[encoded data removed]",
            "text/plain": [
              "<Figure size 432x288 with 1 Axes>"
            ]
          },
          "metadata": {
            "needs_background": "light"
          },
          "output_type": "display_data"
        }
      ],
      "source": [
        "plt.hist(df2['Magnitude'], bins = 10, edgecolor = 'black')\n",
        "plt.xlabel('Magnitude')\n",
        "plt.ylabel('Number of Earthquakes')\n",
        "plt.title('1965-2016 Earthquakes')"
      ]
    },
    {
      "cell_type": "code",
      "execution_count": null,
      "metadata": {
        "id": "Hn5V6truNyBV",
        "outputId": "214597e8-9417-4c7c-8430-7e9a053dd038"
      },
      "outputs": [
        {
          "data": {
            "text/plain": [
              "Text(0.5, 1.0, '1965-2016 Earthquakes')"
            ]
          },
          "execution_count": 45,
          "metadata": {},
          "output_type": "execute_result"
        },
        {
          "data": {
            "image/png": "[encoded data removed]",
            "text/plain": [
              "<Figure size 432x288 with 1 Axes>"
            ]
          },
          "metadata": {
            "needs_background": "light"
          },
          "output_type": "display_data"
        }
      ],
      "source": [
        "plt.hist(df2['Magnitude'], bins = [6,6.1,6.2,6.3,6.4,6.5,6.6,6.7,6.8,6.9,7], edgecolor = 'black')\n",
        "plt.xlabel('Magnitude')\n",
        "plt.ylabel('Number of Earthquakes')\n",
        "plt.title('1965-2016 Earthquakes')"
      ]
    },
    {
      "cell_type": "code",
      "execution_count": null,
      "metadata": {
        "id": "puk3oXNXNyBV"
      },
      "outputs": [],
      "source": [
        "def myplot(bins):\n",
        "    plt.hist(df2['Magnitude'], bins = bins, edgecolor = 'black')\n",
        "    plt.xlabel('Magnitude')\n",
        "    plt.ylabel('Number of Earthquakes')\n",
        "    plt.title('1965-2016 Earthquakes')"
      ]
    },
    {
      "cell_type": "code",
      "execution_count": null,
      "metadata": {
        "id": "b4oHKyPPNyBV",
        "outputId": "649eac26-a220-4e1c-f070-d8ac2c38192f"
      },
      "outputs": [
        {
          "data": {
            "image/png": "[encoded data removed]",
            "text/plain": [
              "<Figure size 432x288 with 1 Axes>"
            ]
          },
          "metadata": {
            "needs_background": "light"
          },
          "output_type": "display_data"
        }
      ],
      "source": [
        "myplot(20)"
      ]
    },
    {
      "cell_type": "code",
      "execution_count": null,
      "metadata": {
        "id": "dVpV-QyMNyBW",
        "outputId": "d9aedc25-857f-4f14-c6d8-9ee7e1e2d5ca"
      },
      "outputs": [
        {
          "data": {
            "text/plain": [
              "Text(0.5, 1.0, '1965-2016 Earthquakes')"
            ]
          },
          "execution_count": 48,
          "metadata": {},
          "output_type": "execute_result"
        },
        {
          "data": {
            "image/png": "[encoded data removed]",
            "text/plain": [
              "<Figure size 432x288 with 1 Axes>"
            ]
          },
          "metadata": {
            "needs_background": "light"
          },
          "output_type": "display_data"
        }
      ],
      "source": [
        "plt.hist(df2['Magnitude'], bins = 20, edgecolor = 'black', range = [8,9.1])\n",
        "plt.xlabel('Magnitude')\n",
        "plt.ylabel('Number of Earthquakes')\n",
        "plt.title('1965-2016 Earthquakes')"
      ]
    },
    {
      "cell_type": "code",
      "execution_count": null,
      "metadata": {
        "id": "cGrDc8QONyBX",
        "outputId": "8db30606-05a0-4c79-cdcb-cdd3c01cec2b"
      },
      "outputs": [
        {
          "name": "stderr",
          "output_type": "stream",
          "text": [
            "/anaconda3/envs/acg/lib/python3.7/site-packages/pandas/plotting/_matplotlib/converter.py:103: FutureWarning: Using an implicitly registered datetime converter for a matplotlib plotting method. The converter was registered by pandas on import. Future versions of pandas will require you to explicitly register matplotlib converters.\n",
            "\n",
            "To register the converters:\n",
            "\t>>> from pandas.plotting import register_matplotlib_converters\n",
            "\t>>> register_matplotlib_converters()\n",
            "  warnings.warn(msg, FutureWarning)\n"
          ]
        },
        {
          "data": {
            "text/plain": [
              "[<matplotlib.lines.Line2D at 0x11e66ccc0>]"
            ]
          },
          "execution_count": 49,
          "metadata": {},
          "output_type": "execute_result"
        },
        {
          "data": {
            "image/png": "[encoded data removed]",
            "text/plain": [
              "<Figure size 432x288 with 1 Axes>"
            ]
          },
          "metadata": {
            "needs_background": "light"
          },
          "output_type": "display_data"
        }
      ],
      "source": [
        "plt.plot(df2['Magnitude'][df2.Type == 'Earthquake'].resample('1Y').max())"
      ]
    },
    {
      "cell_type": "code",
      "execution_count": null,
      "metadata": {
        "id": "KSEpV8n6NyBY",
        "outputId": "36f8fba6-afb7-4e21-e4d0-39813e5812b6"
      },
      "outputs": [
        {
          "data": {
            "text/plain": [
              "[<matplotlib.lines.Line2D at 0x11e864d68>]"
            ]
          },
          "execution_count": 50,
          "metadata": {},
          "output_type": "execute_result"
        },
        {
          "data": {
            "image/png": "[encoded data removed]",
            "text/plain": [
              "<Figure size 432x288 with 1 Axes>"
            ]
          },
          "metadata": {
            "needs_background": "light"
          },
          "output_type": "display_data"
        }
      ],
      "source": [
        "plt.plot(df2['Magnitude'][df2.Type == 'Earthquake'].resample('6M').max())"
      ]
    },
    {
      "cell_type": "code",
      "execution_count": null,
      "metadata": {
        "id": "lM9MaKbvNyBY",
        "outputId": "d83dc294-4712-40b4-b9b4-e4048a5eb52a"
      },
      "outputs": [
        {
          "data": {
            "text/plain": [
              "(53,)"
            ]
          },
          "execution_count": 51,
          "metadata": {},
          "output_type": "execute_result"
        }
      ],
      "source": [
        "df2.index.year.unique().shape"
      ]
    },
    {
      "cell_type": "code",
      "execution_count": null,
      "metadata": {
        "id": "dicN3Jh2NyBY",
        "outputId": "131d5925-5ec4-4bb9-fdd3-f0e7a18f1da0"
      },
      "outputs": [
        {
          "data": {
            "text/plain": [
              "(52,)"
            ]
          },
          "execution_count": 52,
          "metadata": {},
          "output_type": "execute_result"
        }
      ],
      "source": [
        "df2.index.year[df2.Type == 'Earthquake'].value_counts().sort_index().shape"
      ]
    },
    {
      "cell_type": "code",
      "execution_count": null,
      "metadata": {
        "id": "-iRdLlAsNyBZ",
        "outputId": "8f9dbb8f-3f16-43eb-f8fe-e4b517dc2d5c"
      },
      "outputs": [
        {
          "data": {
            "text/plain": [
              "3"
            ]
          },
          "execution_count": 53,
          "metadata": {},
          "output_type": "execute_result"
        }
      ],
      "source": [
        "df2.index.year.isnull().sum()"
      ]
    },
    {
      "cell_type": "code",
      "execution_count": null,
      "metadata": {
        "id": "ryHyD9KYNyBZ",
        "outputId": "3921628c-08bd-4eb3-9a9d-8619a0457c30"
      },
      "outputs": [
        {
          "data": {
            "text/html": [
              "<div>\n",
              "<style scoped>\n",
              "    .dataframe tbody tr th:only-of-type {\n",
              "        vertical-align: middle;\n",
              "    }\n",
              "\n",
              "    .dataframe tbody tr th {\n",
              "        vertical-align: top;\n",
              "    }\n",
              "\n",
              "    .dataframe thead th {\n",
              "        text-align: right;\n",
              "    }\n",
              "</style>\n",
              "<table border=\"1\" class=\"dataframe\">\n",
              "  <thead>\n",
              "    <tr style=\"text-align: right;\">\n",
              "      <th></th>\n",
              "      <th>Latitude</th>\n",
              "      <th>Longitude</th>\n",
              "      <th>Type</th>\n",
              "      <th>Depth</th>\n",
              "      <th>Magnitude</th>\n",
              "    </tr>\n",
              "    <tr>\n",
              "      <th>Date_Time</th>\n",
              "      <th></th>\n",
              "      <th></th>\n",
              "      <th></th>\n",
              "      <th></th>\n",
              "      <th></th>\n",
              "    </tr>\n",
              "  </thead>\n",
              "  <tbody>\n",
              "    <tr>\n",
              "      <td>NaT</td>\n",
              "      <td>8.017</td>\n",
              "      <td>124.075</td>\n",
              "      <td>Earthquake</td>\n",
              "      <td>623.0</td>\n",
              "      <td>5.6</td>\n",
              "    </tr>\n",
              "    <tr>\n",
              "      <td>NaT</td>\n",
              "      <td>-32.998</td>\n",
              "      <td>-71.766</td>\n",
              "      <td>Earthquake</td>\n",
              "      <td>33.0</td>\n",
              "      <td>5.6</td>\n",
              "    </tr>\n",
              "    <tr>\n",
              "      <td>NaT</td>\n",
              "      <td>36.344</td>\n",
              "      <td>142.344</td>\n",
              "      <td>Earthquake</td>\n",
              "      <td>10.1</td>\n",
              "      <td>5.8</td>\n",
              "    </tr>\n",
              "  </tbody>\n",
              "</table>\n",
              "</div>"
            ],
            "text/plain": [
              "           Latitude  Longitude        Type  Depth  Magnitude\n",
              "Date_Time                                                   \n",
              "NaT           8.017    124.075  Earthquake  623.0        5.6\n",
              "NaT         -32.998    -71.766  Earthquake   33.0        5.6\n",
              "NaT          36.344    142.344  Earthquake   10.1        5.8"
            ]
          },
          "execution_count": 54,
          "metadata": {},
          "output_type": "execute_result"
        }
      ],
      "source": [
        "df2.loc[df2.index.year.isnull()]"
      ]
    },
    {
      "cell_type": "code",
      "execution_count": null,
      "metadata": {
        "id": "SBQ0bBx2NyBZ"
      },
      "outputs": [],
      "source": [
        "df2 = df2.reset_index().dropna().set_index('Date_Time')"
      ]
    },
    {
      "cell_type": "code",
      "execution_count": null,
      "metadata": {
        "scrolled": true,
        "id": "EH_uF89PNyBa",
        "outputId": "c3fef618-8512-4247-fa5f-69c42259e675"
      },
      "outputs": [
        {
          "data": {
            "text/plain": [
              "Text(0.5, 1.0, 'Earthquakes per year')"
            ]
          },
          "execution_count": 56,
          "metadata": {},
          "output_type": "execute_result"
        },
        {
          "data": {
            "image/png": "[encoded data removed]",
            "text/plain": [
              "<Figure size 432x288 with 1 Axes>"
            ]
          },
          "metadata": {
            "needs_background": "light"
          },
          "output_type": "display_data"
        }
      ],
      "source": [
        "plt.bar(df2.index.year.unique(),df2.index.year[df2.Type == 'Earthquake'].value_counts().sort_index())\n",
        "plt.title('Earthquakes per year')"
      ]
    },
    {
      "cell_type": "code",
      "execution_count": null,
      "metadata": {
        "id": "XAPOux2YNyBa",
        "outputId": "2995e44e-6758-48c6-e8f9-562e2c277d57"
      },
      "outputs": [
        {
          "data": {
            "text/plain": [
              "Text(0.5, 1.0, 'Nukes per year')"
            ]
          },
          "execution_count": 57,
          "metadata": {},
          "output_type": "execute_result"
        },
        {
          "data": {
            "image/png": "[encoded data removed]",
            "text/plain": [
              "<Figure size 432x288 with 1 Axes>"
            ]
          },
          "metadata": {
            "needs_background": "light"
          },
          "output_type": "display_data"
        }
      ],
      "source": [
        "plt.bar(df2[df2.Type == 'Nuclear Explosion'].index.year.unique(),\n",
        "       df2.index.year[df2.Type == 'Nuclear Explosion'].value_counts().sort_index())\n",
        "plt.title('Nukes per year')"
      ]
    },
    {
      "cell_type": "code",
      "execution_count": null,
      "metadata": {
        "id": "Ax_OfRClNyBb",
        "outputId": "aecd03ed-67d5-47c7-c6a6-1fa8c348adae"
      },
      "outputs": [
        {
          "data": {
            "text/plain": [
              "<matplotlib.collections.PathCollection at 0x11ecd8390>"
            ]
          },
          "execution_count": 58,
          "metadata": {},
          "output_type": "execute_result"
        },
        {
          "data": {
            "image/png": "[encoded data removed]",
            "text/plain": [
              "<Figure size 432x288 with 1 Axes>"
            ]
          },
          "metadata": {
            "needs_background": "light"
          },
          "output_type": "display_data"
        }
      ],
      "source": [
        "plt.scatter(df2[df2.Type == 'Earthquake'].index.year.unique(),\n",
        "       df2.index.year[df2.Type == 'Earthquake'].value_counts().sort_index())"
      ]
    },
    {
      "cell_type": "code",
      "execution_count": null,
      "metadata": {
        "id": "TrojIv1UNyBb",
        "outputId": "8627a9a1-7039-43a6-ed8b-a5ac8ef03b00"
      },
      "outputs": [
        {
          "name": "stderr",
          "output_type": "stream",
          "text": [
            "/anaconda3/envs/acg/lib/python3.7/site-packages/matplotlib/collections.py:857: RuntimeWarning: invalid value encountered in sqrt\n",
            "  scale = np.sqrt(self._sizes) * dpi / 72.0 * self._factor\n"
          ]
        },
        {
          "data": {
            "text/plain": [
              "<matplotlib.collections.PathCollection at 0x11f0fce80>"
            ]
          },
          "execution_count": 59,
          "metadata": {},
          "output_type": "execute_result"
        },
        {
          "data": {
            "image/png": "[encoded data removed]",
            "text/plain": [
              "<Figure size 432x288 with 1 Axes>"
            ]
          },
          "metadata": {
            "needs_background": "light"
          },
          "output_type": "display_data"
        }
      ],
      "source": [
        "plt.scatter(df2[df2.Type == 'Earthquake'].index.year.unique(),\n",
        "       df2.index.year[df2.Type == 'Earthquake'].value_counts().sort_index(), df2['Depth'])"
      ]
    },
    {
      "cell_type": "code",
      "execution_count": null,
      "metadata": {
        "id": "mGK1NvfxNyBb",
        "outputId": "4f1bd0ef-88eb-4bee-8524-b14e7af7e5d7"
      },
      "outputs": [
        {
          "data": {
            "text/plain": [
              "<matplotlib.collections.PathCollection at 0x11f8bfba8>"
            ]
          },
          "execution_count": 60,
          "metadata": {},
          "output_type": "execute_result"
        },
        {
          "data": {
            "image/png": "[encoded data removed]",
            "text/plain": [
              "<Figure size 432x288 with 1 Axes>"
            ]
          },
          "metadata": {
            "needs_background": "light"
          },
          "output_type": "display_data"
        }
      ],
      "source": [
        "plt.scatter(df2[df2.Type == 'Earthquake'].index.year.unique(),\n",
        "       df2.index.year[df2.Type == 'Earthquake'].value_counts().sort_index(), df2['Depth'], 'green', alpha = 0.7)"
      ]
    },
    {
      "cell_type": "code",
      "execution_count": null,
      "metadata": {
        "id": "xQFNFtKANyBc",
        "outputId": "6a56b2ad-d380-4bbd-bb14-34841d67e8e6"
      },
      "outputs": [
        {
          "data": {
            "text/plain": [
              "<matplotlib.collections.PathCollection at 0x11f912f98>"
            ]
          },
          "execution_count": 61,
          "metadata": {},
          "output_type": "execute_result"
        },
        {
          "data": {
            "image/png": "[encoded data removed]",
            "text/plain": [
              "<Figure size 432x288 with 1 Axes>"
            ]
          },
          "metadata": {
            "needs_background": "light"
          },
          "output_type": "display_data"
        }
      ],
      "source": [
        "plt.scatter(df2['Magnitude'],df2['Depth'])"
      ]
    },
    {
      "cell_type": "code",
      "execution_count": null,
      "metadata": {
        "id": "iyQzIRKQNyBc",
        "outputId": "b457c3bc-a3d6-4ab5-bb51-627ca684ceb6"
      },
      "outputs": [
        {
          "data": {
            "text/plain": [
              "<matplotlib.collections.PathCollection at 0x11fb38f28>"
            ]
          },
          "execution_count": 62,
          "metadata": {},
          "output_type": "execute_result"
        },
        {
          "data": {
            "image/png": "[encoded data removed]",
            "text/plain": [
              "<Figure size 1368x720 with 1 Axes>"
            ]
          },
          "metadata": {
            "needs_background": "light"
          },
          "output_type": "display_data"
        }
      ],
      "source": [
        "plt.figure(figsize = (19,10))\n",
        "plt.scatter(df2['Longitude'],df2['Latitude'],df2['Magnitude']*10,df2['Depth'])"
      ]
    },
    {
      "cell_type": "code",
      "execution_count": null,
      "metadata": {
        "id": "Nfy9szrKNyBc",
        "outputId": "669818fe-94a2-4b11-fd04-254cde851c12"
      },
      "outputs": [
        {
          "data": {
            "text/plain": [
              "<matplotlib.legend.Legend at 0x11fd0a278>"
            ]
          },
          "execution_count": 66,
          "metadata": {},
          "output_type": "execute_result"
        },
        {
          "data": {
            "image/png": "[encoded data removed]",
            "text/plain": [
              "<Figure size 432x288 with 1 Axes>"
            ]
          },
          "metadata": {
            "needs_background": "light"
          },
          "output_type": "display_data"
        }
      ],
      "source": [
        "plt.scatter(df2[df2.Type == 'Earthquake'].index.year.unique(),\n",
        "    df2.index.year[df2.Type == 'Earthquake'].value_counts().sort_index(),df2['Depth'],'green',alpha=0.7)\n",
        "area = df2['Depth']\n",
        "for area in [10,50,100]:\n",
        "    plt.scatter([],[],c='k',s=area,label=str(area))\n",
        "plt.legend(scatterpoints=1,title='I am legend',loc='lower center')"
      ]
    },
    {
      "cell_type": "code",
      "execution_count": null,
      "metadata": {
        "id": "mlJTgpChNyBc"
      },
      "outputs": [],
      "source": [
        ""
      ]
    }
  ],
  "metadata": {
    "kernelspec": {
      "display_name": "Python 3",
      "language": "python",
      "name": "python3"
    },
    "language_info": {
      "codemirror_mode": {
        "name": "ipython",
        "version": 3
      },
      "file_extension": ".py",
      "mimetype": "text/x-python",
      "name": "python",
      "nbconvert_exporter": "python",
      "pygments_lexer": "ipython3",
      "version": "3.7.3"
    },
    "colab": {
      "name": "introduction-python-data-analyst.ipynb",
      "provenance": []
    }
  },
  "nbformat": 4,
  "nbformat_minor": 0
}